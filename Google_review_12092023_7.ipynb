{
 "cells": [
  {
   "cell_type": "code",
   "execution_count": null,
   "id": "5cc4987d",
   "metadata": {},
   "outputs": [],
   "source": [
    "! pip install outscraper"
   ]
  },
  {
   "cell_type": "code",
   "execution_count": null,
   "id": "4078c07a",
   "metadata": {},
   "outputs": [],
   "source": [
    "import json\n",
    "from outscraper import ApiClient\n",
    "\n",
    "def scrape_reviews(api_key, json_filename, output_json_filename):\n",
    "    api_client = ApiClient(api_key=api_key)\n",
    "\n",
    "    try:\n",
    "        with open(json_filename, 'r', encoding='utf-8') as json_file:\n",
    "            data = json.load(json_file)\n",
    "\n",
    "        all_reviews = {}\n",
    "\n",
    "        for company_name, reviews_list in data.items():\n",
    "            for reviews in reviews_list:\n",
    "                for result in reviews:\n",
    "                    place_id = result.get('place_id', '')\n",
    "\n",
    "                    if place_id:\n",
    "                        try:\n",
    "                            reviews_data = api_client.google_maps_reviews(place_id, reviews_limit=3)\n",
    "                            all_reviews[company_name] = {'place_id': place_id, 'reviews': reviews_data}\n",
    "                        except Exception as e:\n",
    "                            print(f\"Error for {company_name}: {str(e)}\")\n",
    "\n",
    "        with open(output_json_filename, 'w', encoding='utf-8') as output_json_file:\n",
    "            json.dump(all_reviews, output_json_file, ensure_ascii=False, indent=2)\n",
    "\n",
    "        print(f\"Reviews scraped and saved to '{output_json_filename}' successfully.\")\n",
    "    except Exception as e:\n",
    "        print(f\"Error: {str(e)}\")\n",
    "\n",
    "api_key = 'YTVkNzRhOWRhMmFlNDFkYzkwOWFhZWY2ZTYxNzQ1NTJ8OGNhYjBjZWNmNw'\n",
    "json_filename = 'output_results.json'\n",
    "output_json_filename = 'reviews_output.json'\n",
    "\n",
    "scrape_reviews(api_key, json_filename, output_json_filename)\n"
   ]
  }
 ],
 "metadata": {
  "kernelspec": {
   "display_name": "Python 3 (ipykernel)",
   "language": "python",
   "name": "python3"
  },
  "language_info": {
   "codemirror_mode": {
    "name": "ipython",
    "version": 3
   },
   "file_extension": ".py",
   "mimetype": "text/x-python",
   "name": "python",
   "nbconvert_exporter": "python",
   "pygments_lexer": "ipython3",
   "version": "3.8.5"
  }
 },
 "nbformat": 4,
 "nbformat_minor": 5
}

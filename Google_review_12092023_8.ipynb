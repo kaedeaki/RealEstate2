{
 "cells": [
  {
   "cell_type": "code",
   "execution_count": null,
   "id": "5cc4987d",
   "metadata": {},
   "outputs": [],
   "source": [
    "! pip install outscraper"
   ]
  },
  {
   "cell_type": "code",
   "execution_count": null,
   "id": "4078c07a",
   "metadata": {},
   "outputs": [],
   "source": [
    "import json\n",
    "from outscraper import ApiClient\n",
    "\n",
    "def scrape_reviews(api_key, json_filename, output_json_filename):\n",
    "    api_client = ApiClient(api_key=api_key)\n",
    "\n",
    "    try:\n",
    "        with open(json_filename, 'r', encoding='utf-8') as json_file:\n",
    "            data = json.load(json_file)\n",
    "\n",
    "        all_reviews = {}\n",
    "\n",
    "        for company_name, reviews_list in data.items():\n",
    "            for reviews in reviews_list:\n",
    "                for result in reviews:\n",
    "                    place_id = result.get('place_id', '')\n",
    "\n",
    "                    if place_id:\n",
    "                        try:\n",
    "                            reviews_data = api_client.google_maps_reviews(place_id, reviews_limit=3)\n",
    "                            all_reviews[company_name] = {'place_id': place_id, 'reviews': reviews_data}\n",
    "                        except Exception as e:\n",
    "                            print(f\"Error for {company_name}: {str(e)}\")\n",
    "\n",
    "        with open(output_json_filename, 'w', encoding='utf-8') as output_json_file:\n",
    "            json.dump(all_reviews, output_json_file, ensure_ascii=False, indent=2)\n",
    "\n",
    "        print(f\"Reviews scraped and saved to '{output_json_filename}' successfully.\")\n",
    "    except Exception as e:\n",
    "        print(f\"Error: {str(e)}\")\n",
    "\n",
    "api_key = ' '\n",
    "json_filename = 'output_results.json'\n",
    "output_json_filename = 'reviews_output.json'\n",
    "\n",
    "scrape_reviews(api_key, json_filename, output_json_filename)\n"
   ]
  },
  {
   "cell_type": "code",
   "execution_count": null,
   "id": "1a7819a1",
   "metadata": {},
   "outputs": [],
   "source": [
    "import json\n",
    "import csv\n",
    "\n",
    "#fileIn = \"out_vpc.json\"\n",
    "#fileOut= \"out_vpc.csv\"\n",
    "\n",
    "fileIn = \"reviews_output.json\"\n",
    "fileOut= \"reviews_output.csv\"\n",
    "\n",
    "\n",
    "#json_open = open(fileIn, 'r')\n",
    "#json_load = json.load(json_open)\n",
    "\n",
    "with open(fileIn, 'r', encoding='utf-8') as f:\n",
    "    json_data = json.loads(f.read())\n",
    "\n",
    "\n",
    "outDict = {}\n",
    "glNo = 0\n",
    "\n",
    "def nestLoop(el,argStr):\n",
    "    global glNo\n",
    "    headStr = \"\"\n",
    "    nextStr = \"\"\n",
    "    if type(el) is str: # 文字列\n",
    "        nowNo = f'{glNo:08}'\n",
    "        outElement = \"{0}___{1}\".format(nowNo,argStr)\n",
    "        glNo += 1\n",
    "        outDict.update( { outElement : el } )\n",
    "    if type(el) is list: # リスト型\n",
    "        for lp in el:\n",
    "            nextStr = \"{0}{1}\".format(argStr , headStr)\n",
    "            nestLoop( lp , nextStr)\n",
    "            nextStr = \"\"\n",
    "    if type(el) is dict: # 辞書型\n",
    "        for lp in el.items():\n",
    "            if argStr != \"\":\n",
    "                headStr = \"__\"\n",
    "            nextStr += \"{0}{1}{2}\".format( argStr , headStr , lp[0].strip() )\n",
    "            nestLoop( el[ lp[0] ] , nextStr)\n",
    "            nextStr = \"\"\n",
    "\n",
    "nestLoop(json_data,\"\")\n",
    "\n",
    "with open(r'{0}'.format(fileOut),'w',encoding='utf-8',newline=\"\") as f:\n",
    "    writer = csv.writer(f)\n",
    "    for k, v in outDict.items():\n",
    "        writer.writerow([k, v])\n"
   ]
  },
  {
   "cell_type": "code",
   "execution_count": null,
   "id": "a1e87897",
   "metadata": {},
   "outputs": [],
   "source": []
  },
  {
   "cell_type": "markdown",
   "id": "ce792b5c",
   "metadata": {},
   "source": [
    "# no need to include the project below."
   ]
  },
  {
   "cell_type": "code",
   "execution_count": null,
   "id": "798e2ab5",
   "metadata": {},
   "outputs": [],
   "source": [
    "import pandas as pd\n",
    "\n",
    "df = pd.read_csv('reviews_output.csv')\n",
    "\n",
    "# 一列目（最初の列）の中を2つのキーワードで検索\n",
    "keyword1 = '__reviews__name'\n",
    "keyword2 = '__reviews__place_id'\n",
    "\n",
    "# 2つのキーワードのいずれかが含まれている行をフィルタリング\n",
    "df_filtered = df[df.iloc[:, 0].str.contains(keyword1, case=False, na=False) | df.iloc[:, 0].str.contains(keyword2, case=False, na=False)]\n",
    "\n",
    "df_filtered.to_csv('extract_out.csv', index=False)\n"
   ]
  },
  {
   "cell_type": "code",
   "execution_count": null,
   "id": "2c69fbb4",
   "metadata": {},
   "outputs": [],
   "source": [
    "from io import StringIO\n",
    "#df = pd.read_csv('extract_out.csv')\n",
    "\n",
    "df2 = pd.read_csv(StringIO('extract_out.csv'))\n",
    "print(df2)\n"
   ]
  },
  {
   "cell_type": "code",
   "execution_count": null,
   "id": "5ed7c038",
   "metadata": {},
   "outputs": [],
   "source": [
    "import pandas as pd\n",
    "\n",
    "# CSVファイルのパスを指定して読み込み\n",
    "csv_file_path = 'extract_out.csv'\n",
    "df = pd.read_csv(csv_file_path)\n",
    "print(df)"
   ]
  },
  {
   "cell_type": "code",
   "execution_count": null,
   "id": "e37ee562",
   "metadata": {
    "scrolled": true
   },
   "outputs": [],
   "source": [
    "#not working\n",
    "\n",
    "# 'place_id' を含む列だけを残して他を削除\n",
    "df_filtered = df[df.iloc[:, 0]].filter(like='place_id',axis=1)\n",
    "\n",
    "df.head()"
   ]
  },
  {
   "cell_type": "markdown",
   "id": "dbd508a7",
   "metadata": {},
   "source": [
    "# Json to Pandas Data Frame"
   ]
  },
  {
   "cell_type": "code",
   "execution_count": 1,
   "id": "3913f406",
   "metadata": {},
   "outputs": [],
   "source": [
    "import pandas as pd"
   ]
  },
  {
   "cell_type": "code",
   "execution_count": 2,
   "id": "59ef38ae",
   "metadata": {},
   "outputs": [],
   "source": [
    "df = pd.read_json('reviews_output.json').transpose()"
   ]
  },
  {
   "cell_type": "code",
   "execution_count": 3,
   "id": "d5b9695a",
   "metadata": {},
   "outputs": [
    {
     "data": {
      "text/html": [
       "<div>\n",
       "<style scoped>\n",
       "    .dataframe tbody tr th:only-of-type {\n",
       "        vertical-align: middle;\n",
       "    }\n",
       "\n",
       "    .dataframe tbody tr th {\n",
       "        vertical-align: top;\n",
       "    }\n",
       "\n",
       "    .dataframe thead th {\n",
       "        text-align: right;\n",
       "    }\n",
       "</style>\n",
       "<table border=\"1\" class=\"dataframe\">\n",
       "  <thead>\n",
       "    <tr style=\"text-align: right;\">\n",
       "      <th></th>\n",
       "      <th>place_id</th>\n",
       "      <th>reviews</th>\n",
       "    </tr>\n",
       "  </thead>\n",
       "  <tbody>\n",
       "    <tr>\n",
       "      <th>Activa</th>\n",
       "      <td>ChIJxbIbrsrzK4gRyKBqOoYlX6k</td>\n",
       "      <td>[{'query': 'ChIJxbIbrsrzK4gRyKBqOoYlX6k', 'nam...</td>\n",
       "    </tr>\n",
       "    <tr>\n",
       "      <th>Alma Mechanical</th>\n",
       "      <td>ChIJJ5_TX-IA1YkR6nZEdM6l0Sc</td>\n",
       "      <td>[{'query': 'ChIJJ5_TX-IA1YkR6nZEdM6l0Sc', 'nam...</td>\n",
       "    </tr>\n",
       "    <tr>\n",
       "      <th>CCR Build + Remodel Inc.</th>\n",
       "      <td>ChIJ-0bany_lLogRUBnpws5gzI4</td>\n",
       "      <td>[{'query': 'ChIJ-0bany_lLogRUBnpws5gzI4', 'nam...</td>\n",
       "    </tr>\n",
       "    <tr>\n",
       "      <th>Digreen Homes Inc.</th>\n",
       "      <td>ChIJ2yfX4tjU1IkRbct8G2DI2nA</td>\n",
       "      <td>[{'query': 'ChIJ2yfX4tjU1IkRbct8G2DI2nA', 'nam...</td>\n",
       "    </tr>\n",
       "    <tr>\n",
       "      <th>Ecocor Construction Ltd.</th>\n",
       "      <td>ChIJLeO7za44K4gRDb2YOuTLIO0</td>\n",
       "      <td>[{'query': 'ChIJLeO7za44K4gRDb2YOuTLIO0', 'nam...</td>\n",
       "    </tr>\n",
       "  </tbody>\n",
       "</table>\n",
       "</div>"
      ],
      "text/plain": [
       "                                             place_id  \\\n",
       "Activa                    ChIJxbIbrsrzK4gRyKBqOoYlX6k   \n",
       "Alma Mechanical           ChIJJ5_TX-IA1YkR6nZEdM6l0Sc   \n",
       "CCR Build + Remodel Inc.  ChIJ-0bany_lLogRUBnpws5gzI4   \n",
       "Digreen Homes Inc.        ChIJ2yfX4tjU1IkRbct8G2DI2nA   \n",
       "Ecocor Construction Ltd.  ChIJLeO7za44K4gRDb2YOuTLIO0   \n",
       "\n",
       "                                                                    reviews  \n",
       "Activa                    [{'query': 'ChIJxbIbrsrzK4gRyKBqOoYlX6k', 'nam...  \n",
       "Alma Mechanical           [{'query': 'ChIJJ5_TX-IA1YkR6nZEdM6l0Sc', 'nam...  \n",
       "CCR Build + Remodel Inc.  [{'query': 'ChIJ-0bany_lLogRUBnpws5gzI4', 'nam...  \n",
       "Digreen Homes Inc.        [{'query': 'ChIJ2yfX4tjU1IkRbct8G2DI2nA', 'nam...  \n",
       "Ecocor Construction Ltd.  [{'query': 'ChIJLeO7za44K4gRDb2YOuTLIO0', 'nam...  "
      ]
     },
     "execution_count": 3,
     "metadata": {},
     "output_type": "execute_result"
    }
   ],
   "source": [
    "df.head()"
   ]
  },
  {
   "cell_type": "code",
   "execution_count": 4,
   "id": "8e7b47c1",
   "metadata": {},
   "outputs": [],
   "source": [
    "df = df.rename_axis('name')"
   ]
  },
  {
   "cell_type": "code",
   "execution_count": 5,
   "id": "c3ba6080",
   "metadata": {},
   "outputs": [],
   "source": [
    "#df.columns.values[0] = 'name'"
   ]
  },
  {
   "cell_type": "code",
   "execution_count": 6,
   "id": "ff7beba0",
   "metadata": {},
   "outputs": [
    {
     "data": {
      "text/html": [
       "<div>\n",
       "<style scoped>\n",
       "    .dataframe tbody tr th:only-of-type {\n",
       "        vertical-align: middle;\n",
       "    }\n",
       "\n",
       "    .dataframe tbody tr th {\n",
       "        vertical-align: top;\n",
       "    }\n",
       "\n",
       "    .dataframe thead th {\n",
       "        text-align: right;\n",
       "    }\n",
       "</style>\n",
       "<table border=\"1\" class=\"dataframe\">\n",
       "  <thead>\n",
       "    <tr style=\"text-align: right;\">\n",
       "      <th></th>\n",
       "      <th>place_id</th>\n",
       "      <th>reviews</th>\n",
       "    </tr>\n",
       "    <tr>\n",
       "      <th>name</th>\n",
       "      <th></th>\n",
       "      <th></th>\n",
       "    </tr>\n",
       "  </thead>\n",
       "  <tbody>\n",
       "    <tr>\n",
       "      <th>Activa</th>\n",
       "      <td>ChIJxbIbrsrzK4gRyKBqOoYlX6k</td>\n",
       "      <td>[{'query': 'ChIJxbIbrsrzK4gRyKBqOoYlX6k', 'nam...</td>\n",
       "    </tr>\n",
       "    <tr>\n",
       "      <th>Alma Mechanical</th>\n",
       "      <td>ChIJJ5_TX-IA1YkR6nZEdM6l0Sc</td>\n",
       "      <td>[{'query': 'ChIJJ5_TX-IA1YkR6nZEdM6l0Sc', 'nam...</td>\n",
       "    </tr>\n",
       "    <tr>\n",
       "      <th>CCR Build + Remodel Inc.</th>\n",
       "      <td>ChIJ-0bany_lLogRUBnpws5gzI4</td>\n",
       "      <td>[{'query': 'ChIJ-0bany_lLogRUBnpws5gzI4', 'nam...</td>\n",
       "    </tr>\n",
       "    <tr>\n",
       "      <th>Digreen Homes Inc.</th>\n",
       "      <td>ChIJ2yfX4tjU1IkRbct8G2DI2nA</td>\n",
       "      <td>[{'query': 'ChIJ2yfX4tjU1IkRbct8G2DI2nA', 'nam...</td>\n",
       "    </tr>\n",
       "    <tr>\n",
       "      <th>Ecocor Construction Ltd.</th>\n",
       "      <td>ChIJLeO7za44K4gRDb2YOuTLIO0</td>\n",
       "      <td>[{'query': 'ChIJLeO7za44K4gRDb2YOuTLIO0', 'nam...</td>\n",
       "    </tr>\n",
       "  </tbody>\n",
       "</table>\n",
       "</div>"
      ],
      "text/plain": [
       "                                             place_id  \\\n",
       "name                                                    \n",
       "Activa                    ChIJxbIbrsrzK4gRyKBqOoYlX6k   \n",
       "Alma Mechanical           ChIJJ5_TX-IA1YkR6nZEdM6l0Sc   \n",
       "CCR Build + Remodel Inc.  ChIJ-0bany_lLogRUBnpws5gzI4   \n",
       "Digreen Homes Inc.        ChIJ2yfX4tjU1IkRbct8G2DI2nA   \n",
       "Ecocor Construction Ltd.  ChIJLeO7za44K4gRDb2YOuTLIO0   \n",
       "\n",
       "                                                                    reviews  \n",
       "name                                                                         \n",
       "Activa                    [{'query': 'ChIJxbIbrsrzK4gRyKBqOoYlX6k', 'nam...  \n",
       "Alma Mechanical           [{'query': 'ChIJJ5_TX-IA1YkR6nZEdM6l0Sc', 'nam...  \n",
       "CCR Build + Remodel Inc.  [{'query': 'ChIJ-0bany_lLogRUBnpws5gzI4', 'nam...  \n",
       "Digreen Homes Inc.        [{'query': 'ChIJ2yfX4tjU1IkRbct8G2DI2nA', 'nam...  \n",
       "Ecocor Construction Ltd.  [{'query': 'ChIJLeO7za44K4gRDb2YOuTLIO0', 'nam...  "
      ]
     },
     "execution_count": 6,
     "metadata": {},
     "output_type": "execute_result"
    }
   ],
   "source": [
    "df.head()"
   ]
  },
  {
   "cell_type": "code",
   "execution_count": 7,
   "id": "504ea08c",
   "metadata": {},
   "outputs": [
    {
     "name": "stdout",
     "output_type": "stream",
     "text": [
      "                                   name                     place_id  \\\n",
      "0                                Activa  ChIJxbIbrsrzK4gRyKBqOoYlX6k   \n",
      "1                       Alma Mechanical  ChIJJ5_TX-IA1YkR6nZEdM6l0Sc   \n",
      "2              CCR Build + Remodel Inc.  ChIJ-0bany_lLogRUBnpws5gzI4   \n",
      "3                    Digreen Homes Inc.  ChIJ2yfX4tjU1IkRbct8G2DI2nA   \n",
      "4              Ecocor Construction Ltd.  ChIJLeO7za44K4gRDb2YOuTLIO0   \n",
      "5                          Fusion Homes  ChIJE1rXfZiEK4gReqaygRXkfKU   \n",
      "6                  Gemini Homebuilders   ChIJoQanqtiPK4gRlLrGQlyonZI   \n",
      "7                            Great Gulf  ChIJk-aAJHXT1IkR162Fn2PZ_Xo   \n",
      "8                       Greenpark Homes  ChIJ383bv6coK4gRR9vQBgnznpw   \n",
      "9              Holman Construction Inc.  ChIJ00ISyOv7LogRxoLavOAzO9I   \n",
      "10        Longwood Building Corporation  ChIJc3hN1S8QzkwR6Cw2aVsN90o   \n",
      "11                  Menkes Developments  ChIJnxQrv2MtK4gRNJ398yKdSIQ   \n",
      "12                Northbear Contracting  ChIJAQCEFZYv1okRZAqIqv96Ugc   \n",
      "13  Oke Woodsmith Building Systems Inc.  ChIJQT_HCGU6L4gRRTp_-Zzcm9Q   \n",
      "14               Pol Quality Homes Inc.  ChIJRTtMX_atLogRV5weuFY5RdI   \n",
      "15                Shean Architects Inc.  ChIJEZgcWj8EzkwRoPCkpJ-6XN4   \n",
      "16              Three Hills Engineering  ChIJE02goLU61okRfIpzcyBYTaM   \n",
      "17                Toronto Deck and Rail  ChIJYVKqHjVDK4gROjcc35elmrw   \n",
      "18                               Tridel  ChIJvR6GO-AtK4gR3yxdWCwSoKM   \n",
      "19             Upper Canada Consultants  ChIJ7SRXQnZR04kRgjDSNxbEceE   \n",
      "\n",
      "                                              reviews  \n",
      "0   [{'query': 'ChIJxbIbrsrzK4gRyKBqOoYlX6k', 'nam...  \n",
      "1   [{'query': 'ChIJJ5_TX-IA1YkR6nZEdM6l0Sc', 'nam...  \n",
      "2   [{'query': 'ChIJ-0bany_lLogRUBnpws5gzI4', 'nam...  \n",
      "3   [{'query': 'ChIJ2yfX4tjU1IkRbct8G2DI2nA', 'nam...  \n",
      "4   [{'query': 'ChIJLeO7za44K4gRDb2YOuTLIO0', 'nam...  \n",
      "5   [{'query': 'ChIJE1rXfZiEK4gReqaygRXkfKU', 'nam...  \n",
      "6   [{'query': 'ChIJoQanqtiPK4gRlLrGQlyonZI', 'nam...  \n",
      "7   [{'query': 'ChIJk-aAJHXT1IkR162Fn2PZ_Xo', 'nam...  \n",
      "8   [{'query': 'ChIJ383bv6coK4gRR9vQBgnznpw', 'nam...  \n",
      "9   [{'query': 'ChIJ00ISyOv7LogRxoLavOAzO9I', 'nam...  \n",
      "10  [{'query': 'ChIJc3hN1S8QzkwR6Cw2aVsN90o', 'nam...  \n",
      "11  [{'query': 'ChIJnxQrv2MtK4gRNJ398yKdSIQ', 'nam...  \n",
      "12  [{'query': 'ChIJAQCEFZYv1okRZAqIqv96Ugc', 'nam...  \n",
      "13  [{'query': 'ChIJQT_HCGU6L4gRRTp_-Zzcm9Q', 'nam...  \n",
      "14  [{'query': 'ChIJRTtMX_atLogRV5weuFY5RdI', 'nam...  \n",
      "15  [{'query': 'ChIJEZgcWj8EzkwRoPCkpJ-6XN4', 'nam...  \n",
      "16  [{'query': 'ChIJE02goLU61okRfIpzcyBYTaM', 'nam...  \n",
      "17  [{'query': 'ChIJYVKqHjVDK4gROjcc35elmrw', 'nam...  \n",
      "18  [{'query': 'ChIJvR6GO-AtK4gR3yxdWCwSoKM', 'nam...  \n",
      "19  [{'query': 'ChIJ7SRXQnZR04kRgjDSNxbEceE', 'nam...  \n"
     ]
    }
   ],
   "source": [
    "df.reset_index(inplace=True)\n",
    "\n",
    "# インデックスに 'name' という名前を付ける\n",
    "df = df.rename(columns={'index': 'name'})\n",
    "\n",
    "# 結果を表示\n",
    "print(df)"
   ]
  },
  {
   "cell_type": "code",
   "execution_count": 8,
   "id": "63a4313a",
   "metadata": {},
   "outputs": [
    {
     "name": "stdout",
     "output_type": "stream",
     "text": [
      "                                   name                     place_id\n",
      "0                                Activa  ChIJxbIbrsrzK4gRyKBqOoYlX6k\n",
      "1                       Alma Mechanical  ChIJJ5_TX-IA1YkR6nZEdM6l0Sc\n",
      "2              CCR Build + Remodel Inc.  ChIJ-0bany_lLogRUBnpws5gzI4\n",
      "3                    Digreen Homes Inc.  ChIJ2yfX4tjU1IkRbct8G2DI2nA\n",
      "4              Ecocor Construction Ltd.  ChIJLeO7za44K4gRDb2YOuTLIO0\n",
      "5                          Fusion Homes  ChIJE1rXfZiEK4gReqaygRXkfKU\n",
      "6                  Gemini Homebuilders   ChIJoQanqtiPK4gRlLrGQlyonZI\n",
      "7                            Great Gulf  ChIJk-aAJHXT1IkR162Fn2PZ_Xo\n",
      "8                       Greenpark Homes  ChIJ383bv6coK4gRR9vQBgnznpw\n",
      "9              Holman Construction Inc.  ChIJ00ISyOv7LogRxoLavOAzO9I\n",
      "10        Longwood Building Corporation  ChIJc3hN1S8QzkwR6Cw2aVsN90o\n",
      "11                  Menkes Developments  ChIJnxQrv2MtK4gRNJ398yKdSIQ\n",
      "12                Northbear Contracting  ChIJAQCEFZYv1okRZAqIqv96Ugc\n",
      "13  Oke Woodsmith Building Systems Inc.  ChIJQT_HCGU6L4gRRTp_-Zzcm9Q\n",
      "14               Pol Quality Homes Inc.  ChIJRTtMX_atLogRV5weuFY5RdI\n",
      "15                Shean Architects Inc.  ChIJEZgcWj8EzkwRoPCkpJ-6XN4\n",
      "16              Three Hills Engineering  ChIJE02goLU61okRfIpzcyBYTaM\n",
      "17                Toronto Deck and Rail  ChIJYVKqHjVDK4gROjcc35elmrw\n",
      "18                               Tridel  ChIJvR6GO-AtK4gR3yxdWCwSoKM\n",
      "19             Upper Canada Consultants  ChIJ7SRXQnZR04kRgjDSNxbEceE\n"
     ]
    }
   ],
   "source": [
    "new_df = df[['name', 'place_id']]\n",
    "\n",
    "# 結果を表示\n",
    "print(new_df)"
   ]
  },
  {
   "cell_type": "code",
   "execution_count": null,
   "id": "94f7cdf2",
   "metadata": {},
   "outputs": [],
   "source": []
  }
 ],
 "metadata": {
  "kernelspec": {
   "display_name": "Python 3 (ipykernel)",
   "language": "python",
   "name": "python3"
  },
  "language_info": {
   "codemirror_mode": {
    "name": "ipython",
    "version": 3
   },
   "file_extension": ".py",
   "mimetype": "text/x-python",
   "name": "python",
   "nbconvert_exporter": "python",
   "pygments_lexer": "ipython3",
   "version": "3.8.5"
  }
 },
 "nbformat": 4,
 "nbformat_minor": 5
}

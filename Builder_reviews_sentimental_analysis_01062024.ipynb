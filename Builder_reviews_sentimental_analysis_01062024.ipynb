{
 "cells": [
  {
   "cell_type": "code",
   "execution_count": 1,
   "id": "db6ae32e",
   "metadata": {},
   "outputs": [
    {
     "name": "stdout",
     "output_type": "stream",
     "text": [
      "Requirement already satisfied: flair in c:\\users\\la-ni\\anaconda3\\lib\\site-packages (0.13.1)\n",
      "Requirement already satisfied: boto3>=1.20.27 in c:\\users\\la-ni\\anaconda3\\lib\\site-packages (from flair) (1.34.7)\n",
      "Requirement already satisfied: bpemb>=0.3.2 in c:\\users\\la-ni\\anaconda3\\lib\\site-packages (from flair) (0.3.4)\n",
      "Requirement already satisfied: conllu>=4.0 in c:\\users\\la-ni\\anaconda3\\lib\\site-packages (from flair) (4.5.3)\n",
      "Requirement already satisfied: deprecated>=1.2.13 in c:\\users\\la-ni\\anaconda3\\lib\\site-packages (from flair) (1.2.14)\n",
      "Requirement already satisfied: ftfy>=6.1.0 in c:\\users\\la-ni\\anaconda3\\lib\\site-packages (from flair) (6.1.3)\n",
      "Requirement already satisfied: gdown>=4.4.0 in c:\\users\\la-ni\\anaconda3\\lib\\site-packages (from flair) (4.7.1)\n",
      "Requirement already satisfied: gensim>=4.2.0 in c:\\users\\la-ni\\anaconda3\\lib\\site-packages (from flair) (4.3.0)\n",
      "Requirement already satisfied: huggingface-hub>=0.10.0 in c:\\users\\la-ni\\anaconda3\\lib\\site-packages (from flair) (0.15.1)\n",
      "Requirement already satisfied: janome>=0.4.2 in c:\\users\\la-ni\\anaconda3\\lib\\site-packages (from flair) (0.5.0)\n",
      "Requirement already satisfied: langdetect>=1.0.9 in c:\\users\\la-ni\\anaconda3\\lib\\site-packages (from flair) (1.0.9)\n",
      "Requirement already satisfied: lxml>=4.8.0 in c:\\users\\la-ni\\anaconda3\\lib\\site-packages (from flair) (4.9.3)\n",
      "Requirement already satisfied: matplotlib>=2.2.3 in c:\\users\\la-ni\\anaconda3\\lib\\site-packages (from flair) (3.7.2)\n",
      "Requirement already satisfied: more-itertools>=8.13.0 in c:\\users\\la-ni\\anaconda3\\lib\\site-packages (from flair) (10.1.0)\n",
      "Requirement already satisfied: mpld3>=0.3 in c:\\users\\la-ni\\anaconda3\\lib\\site-packages (from flair) (0.5.10)\n",
      "Requirement already satisfied: pptree>=3.1 in c:\\users\\la-ni\\anaconda3\\lib\\site-packages (from flair) (3.1)\n",
      "Requirement already satisfied: python-dateutil>=2.8.2 in c:\\users\\la-ni\\anaconda3\\lib\\site-packages (from flair) (2.8.2)\n",
      "Requirement already satisfied: pytorch-revgrad>=0.2.0 in c:\\users\\la-ni\\anaconda3\\lib\\site-packages (from flair) (0.2.0)\n",
      "Requirement already satisfied: regex>=2022.1.18 in c:\\users\\la-ni\\anaconda3\\lib\\site-packages (from flair) (2022.7.9)\n",
      "Requirement already satisfied: scikit-learn>=1.0.2 in c:\\users\\la-ni\\anaconda3\\lib\\site-packages (from flair) (1.3.0)\n",
      "Requirement already satisfied: segtok>=1.5.11 in c:\\users\\la-ni\\anaconda3\\lib\\site-packages (from flair) (1.5.11)\n",
      "Requirement already satisfied: sqlitedict>=2.0.0 in c:\\users\\la-ni\\anaconda3\\lib\\site-packages (from flair) (2.1.0)\n",
      "Requirement already satisfied: tabulate>=0.8.10 in c:\\users\\la-ni\\anaconda3\\lib\\site-packages (from flair) (0.8.10)\n",
      "Requirement already satisfied: torch!=1.8,>=1.5.0 in c:\\users\\la-ni\\anaconda3\\lib\\site-packages (from flair) (2.1.2)\n",
      "Requirement already satisfied: tqdm>=4.63.0 in c:\\users\\la-ni\\anaconda3\\lib\\site-packages (from flair) (4.65.0)\n",
      "Requirement already satisfied: transformer-smaller-training-vocab>=0.2.3 in c:\\users\\la-ni\\anaconda3\\lib\\site-packages (from flair) (0.3.3)\n",
      "Requirement already satisfied: transformers[sentencepiece]<5.0.0,>=4.18.0 in c:\\users\\la-ni\\anaconda3\\lib\\site-packages (from flair) (4.32.1)\n",
      "Requirement already satisfied: urllib3<2.0.0,>=1.0.0 in c:\\users\\la-ni\\anaconda3\\lib\\site-packages (from flair) (1.26.16)\n",
      "Requirement already satisfied: wikipedia-api>=0.5.7 in c:\\users\\la-ni\\anaconda3\\lib\\site-packages (from flair) (0.6.0)\n",
      "Requirement already satisfied: semver<4.0.0,>=3.0.0 in c:\\users\\la-ni\\anaconda3\\lib\\site-packages (from flair) (3.0.2)\n",
      "Requirement already satisfied: botocore<1.35.0,>=1.34.7 in c:\\users\\la-ni\\anaconda3\\lib\\site-packages (from boto3>=1.20.27->flair) (1.34.7)\n",
      "Requirement already satisfied: jmespath<2.0.0,>=0.7.1 in c:\\users\\la-ni\\anaconda3\\lib\\site-packages (from boto3>=1.20.27->flair) (0.10.0)\n",
      "Requirement already satisfied: s3transfer<0.11.0,>=0.10.0 in c:\\users\\la-ni\\anaconda3\\lib\\site-packages (from boto3>=1.20.27->flair) (0.10.0)\n",
      "Requirement already satisfied: numpy in c:\\users\\la-ni\\anaconda3\\lib\\site-packages (from bpemb>=0.3.2->flair) (1.24.3)\n",
      "Requirement already satisfied: requests in c:\\users\\la-ni\\anaconda3\\lib\\site-packages (from bpemb>=0.3.2->flair) (2.31.0)\n",
      "Requirement already satisfied: sentencepiece in c:\\users\\la-ni\\anaconda3\\lib\\site-packages (from bpemb>=0.3.2->flair) (0.1.99)\n",
      "Requirement already satisfied: wrapt<2,>=1.10 in c:\\users\\la-ni\\anaconda3\\lib\\site-packages (from deprecated>=1.2.13->flair) (1.14.1)\n",
      "Requirement already satisfied: wcwidth<0.3.0,>=0.2.12 in c:\\users\\la-ni\\anaconda3\\lib\\site-packages (from ftfy>=6.1.0->flair) (0.2.12)\n",
      "Requirement already satisfied: filelock in c:\\users\\la-ni\\anaconda3\\lib\\site-packages (from gdown>=4.4.0->flair) (3.9.0)\n",
      "Requirement already satisfied: six in c:\\users\\la-ni\\anaconda3\\lib\\site-packages (from gdown>=4.4.0->flair) (1.16.0)\n",
      "Requirement already satisfied: beautifulsoup4 in c:\\users\\la-ni\\anaconda3\\lib\\site-packages (from gdown>=4.4.0->flair) (4.12.2)\n",
      "Requirement already satisfied: scipy>=1.7.0 in c:\\users\\la-ni\\anaconda3\\lib\\site-packages (from gensim>=4.2.0->flair) (1.11.1)\n",
      "Requirement already satisfied: smart-open>=1.8.1 in c:\\users\\la-ni\\anaconda3\\lib\\site-packages (from gensim>=4.2.0->flair) (5.2.1)\n",
      "Requirement already satisfied: FuzzyTM>=0.4.0 in c:\\users\\la-ni\\anaconda3\\lib\\site-packages (from gensim>=4.2.0->flair) (2.0.5)\n",
      "Requirement already satisfied: fsspec in c:\\users\\la-ni\\anaconda3\\lib\\site-packages (from huggingface-hub>=0.10.0->flair) (2023.4.0)\n",
      "Requirement already satisfied: pyyaml>=5.1 in c:\\users\\la-ni\\anaconda3\\lib\\site-packages (from huggingface-hub>=0.10.0->flair) (6.0)\n",
      "Requirement already satisfied: typing-extensions>=3.7.4.3 in c:\\users\\la-ni\\anaconda3\\lib\\site-packages (from huggingface-hub>=0.10.0->flair) (4.7.1)\n",
      "Requirement already satisfied: packaging>=20.9 in c:\\users\\la-ni\\anaconda3\\lib\\site-packages (from huggingface-hub>=0.10.0->flair) (23.1)\n",
      "Requirement already satisfied: contourpy>=1.0.1 in c:\\users\\la-ni\\anaconda3\\lib\\site-packages (from matplotlib>=2.2.3->flair) (1.0.5)\n",
      "Requirement already satisfied: cycler>=0.10 in c:\\users\\la-ni\\anaconda3\\lib\\site-packages (from matplotlib>=2.2.3->flair) (0.11.0)\n",
      "Requirement already satisfied: fonttools>=4.22.0 in c:\\users\\la-ni\\anaconda3\\lib\\site-packages (from matplotlib>=2.2.3->flair) (4.25.0)\n",
      "Requirement already satisfied: kiwisolver>=1.0.1 in c:\\users\\la-ni\\anaconda3\\lib\\site-packages (from matplotlib>=2.2.3->flair) (1.4.4)\n",
      "Requirement already satisfied: pillow>=6.2.0 in c:\\users\\la-ni\\anaconda3\\lib\\site-packages (from matplotlib>=2.2.3->flair) (10.0.1)\n",
      "Requirement already satisfied: pyparsing<3.1,>=2.3.1 in c:\\users\\la-ni\\anaconda3\\lib\\site-packages (from matplotlib>=2.2.3->flair) (3.0.9)\n",
      "Requirement already satisfied: jinja2 in c:\\users\\la-ni\\anaconda3\\lib\\site-packages (from mpld3>=0.3->flair) (3.1.2)\n",
      "Requirement already satisfied: joblib>=1.1.1 in c:\\users\\la-ni\\anaconda3\\lib\\site-packages (from scikit-learn>=1.0.2->flair) (1.2.0)\n",
      "Requirement already satisfied: threadpoolctl>=2.0.0 in c:\\users\\la-ni\\anaconda3\\lib\\site-packages (from scikit-learn>=1.0.2->flair) (2.2.0)\n",
      "Requirement already satisfied: sympy in c:\\users\\la-ni\\anaconda3\\lib\\site-packages (from torch!=1.8,>=1.5.0->flair) (1.11.1)\n",
      "Requirement already satisfied: networkx in c:\\users\\la-ni\\anaconda3\\lib\\site-packages (from torch!=1.8,>=1.5.0->flair) (3.1)\n",
      "Requirement already satisfied: colorama in c:\\users\\la-ni\\anaconda3\\lib\\site-packages (from tqdm>=4.63.0->flair) (0.4.6)\n",
      "Requirement already satisfied: tokenizers!=0.11.3,<0.14,>=0.11.1 in c:\\users\\la-ni\\anaconda3\\lib\\site-packages (from transformers[sentencepiece]<5.0.0,>=4.18.0->flair) (0.13.2)\n",
      "Requirement already satisfied: safetensors>=0.3.1 in c:\\users\\la-ni\\anaconda3\\lib\\site-packages (from transformers[sentencepiece]<5.0.0,>=4.18.0->flair) (0.3.2)\n",
      "Requirement already satisfied: protobuf in c:\\users\\la-ni\\anaconda3\\lib\\site-packages (from transformers[sentencepiece]<5.0.0,>=4.18.0->flair) (4.25.1)\n",
      "Requirement already satisfied: pandas in c:\\users\\la-ni\\anaconda3\\lib\\site-packages (from FuzzyTM>=0.4.0->gensim>=4.2.0->flair) (2.0.3)\n",
      "Requirement already satisfied: pyfume in c:\\users\\la-ni\\anaconda3\\lib\\site-packages (from FuzzyTM>=0.4.0->gensim>=4.2.0->flair) (0.2.25)\n",
      "Requirement already satisfied: accelerate>=0.20.3 in c:\\users\\la-ni\\anaconda3\\lib\\site-packages (from transformers[sentencepiece]<5.0.0,>=4.18.0->flair) (0.25.0)\n",
      "Requirement already satisfied: soupsieve>1.2 in c:\\users\\la-ni\\anaconda3\\lib\\site-packages (from beautifulsoup4->gdown>=4.4.0->flair) (2.4)\n",
      "Requirement already satisfied: MarkupSafe>=2.0 in c:\\users\\la-ni\\anaconda3\\lib\\site-packages (from jinja2->mpld3>=0.3->flair) (2.1.1)\n",
      "Requirement already satisfied: charset-normalizer<4,>=2 in c:\\users\\la-ni\\anaconda3\\lib\\site-packages (from requests->bpemb>=0.3.2->flair) (2.0.4)\n",
      "Requirement already satisfied: idna<4,>=2.5 in c:\\users\\la-ni\\anaconda3\\lib\\site-packages (from requests->bpemb>=0.3.2->flair) (3.4)\n",
      "Requirement already satisfied: certifi>=2017.4.17 in c:\\users\\la-ni\\anaconda3\\lib\\site-packages (from requests->bpemb>=0.3.2->flair) (2023.11.17)\n",
      "Requirement already satisfied: PySocks!=1.5.7,>=1.5.6 in c:\\users\\la-ni\\anaconda3\\lib\\site-packages (from requests->bpemb>=0.3.2->flair) (1.7.1)\n",
      "Requirement already satisfied: mpmath>=0.19 in c:\\users\\la-ni\\anaconda3\\lib\\site-packages (from sympy->torch!=1.8,>=1.5.0->flair) (1.3.0)\n",
      "Requirement already satisfied: psutil in c:\\users\\la-ni\\anaconda3\\lib\\site-packages (from accelerate>=0.20.3->transformers[sentencepiece]<5.0.0,>=4.18.0->flair) (5.9.0)\n",
      "Requirement already satisfied: pytz>=2020.1 in c:\\users\\la-ni\\anaconda3\\lib\\site-packages (from pandas->FuzzyTM>=0.4.0->gensim>=4.2.0->flair) (2023.3.post1)\n",
      "Requirement already satisfied: tzdata>=2022.1 in c:\\users\\la-ni\\anaconda3\\lib\\site-packages (from pandas->FuzzyTM>=0.4.0->gensim>=4.2.0->flair) (2023.3)\n",
      "Requirement already satisfied: simpful in c:\\users\\la-ni\\anaconda3\\lib\\site-packages (from pyfume->FuzzyTM>=0.4.0->gensim>=4.2.0->flair) (2.11.1)\n",
      "Requirement already satisfied: fst-pso in c:\\users\\la-ni\\anaconda3\\lib\\site-packages (from pyfume->FuzzyTM>=0.4.0->gensim>=4.2.0->flair) (1.8.1)\n",
      "Requirement already satisfied: miniful in c:\\users\\la-ni\\anaconda3\\lib\\site-packages (from fst-pso->pyfume->FuzzyTM>=0.4.0->gensim>=4.2.0->flair) (0.0.6)\n"
     ]
    }
   ],
   "source": [
    "!pip install flair\n",
    "#!conda install pytorch torchvision torchaudio cpuonly -c pytorch"
   ]
  },
  {
   "cell_type": "code",
   "execution_count": 10,
   "id": "c445b12e",
   "metadata": {},
   "outputs": [],
   "source": [
    "# Load NLP Pkg\n",
    "import flair\n",
    "import pandas as pd\n",
    "pd.set_option('display.max_colwidth', None)"
   ]
  },
  {
   "cell_type": "code",
   "execution_count": 11,
   "id": "2f1509a5",
   "metadata": {},
   "outputs": [
    {
     "data": {
      "text/plain": [
       "['Path',\n",
       " '__all__',\n",
       " '__annotations__',\n",
       " '__builtins__',\n",
       " '__cached__',\n",
       " '__doc__',\n",
       " '__file__',\n",
       " '__loader__',\n",
       " '__name__',\n",
       " '__package__',\n",
       " '__path__',\n",
       " '__spec__',\n",
       " '__version__',\n",
       " '_arrow',\n",
       " 'cache_root',\n",
       " 'data',\n",
       " 'datasets',\n",
       " 'device',\n",
       " 'embeddings',\n",
       " 'file_utils',\n",
       " 'hf_set_seed',\n",
       " 'logger',\n",
       " 'logging',\n",
       " 'models',\n",
       " 'nn',\n",
       " 'optim',\n",
       " 'os',\n",
       " 'samplers',\n",
       " 'set_proxies',\n",
       " 'set_seed',\n",
       " 'splitter',\n",
       " 'tokenization',\n",
       " 'torch',\n",
       " 'trainers',\n",
       " 'training_utils',\n",
       " 'visual']"
      ]
     },
     "execution_count": 11,
     "metadata": {},
     "output_type": "execute_result"
    }
   ],
   "source": [
    "# Methods/Attrib\n",
    "dir(flair)"
   ]
  },
  {
   "cell_type": "code",
   "execution_count": 12,
   "id": "10ebc6eb",
   "metadata": {},
   "outputs": [],
   "source": [
    "# Load EDA Pkgs\n",
    "import pandas as pd\n",
    "import numpy as np"
   ]
  },
  {
   "cell_type": "code",
   "execution_count": 13,
   "id": "98bc0784",
   "metadata": {},
   "outputs": [],
   "source": [
    "df = pd.read_csv(r\"C:\\Users\\la-ni\\OneDrive\\RealEstate2_all\\text_based_reviews.csv\")"
   ]
  },
  {
   "cell_type": "code",
   "execution_count": 14,
   "id": "6073a09b",
   "metadata": {},
   "outputs": [
    {
     "data": {
      "text/html": [
       "<div>\n",
       "<style scoped>\n",
       "    .dataframe tbody tr th:only-of-type {\n",
       "        vertical-align: middle;\n",
       "    }\n",
       "\n",
       "    .dataframe tbody tr th {\n",
       "        vertical-align: top;\n",
       "    }\n",
       "\n",
       "    .dataframe thead th {\n",
       "        text-align: right;\n",
       "    }\n",
       "</style>\n",
       "<table border=\"1\" class=\"dataframe\">\n",
       "  <thead>\n",
       "    <tr style=\"text-align: right;\">\n",
       "      <th></th>\n",
       "      <th>Company Name</th>\n",
       "      <th>Place ID</th>\n",
       "      <th>Author</th>\n",
       "      <th>Rating</th>\n",
       "      <th>Review Text</th>\n",
       "    </tr>\n",
       "  </thead>\n",
       "  <tbody>\n",
       "    <tr>\n",
       "      <th>0</th>\n",
       "      <td>Activa</td>\n",
       "      <td>ChIJxbIbrsrzK4gRyKBqOoYlX6k</td>\n",
       "      <td>Galina Khavrenko</td>\n",
       "      <td>5</td>\n",
       "      <td>We've been a client of Activa Homes for about 5+ years. The quality and design options Activa provides are absolutely amazing. The design and customer care team are always one call away. The Homeowner Orientation, especially for first-time buyers, is very educating. I'm happy to be an Activa homeowner.</td>\n",
       "    </tr>\n",
       "    <tr>\n",
       "      <th>1</th>\n",
       "      <td>Activa</td>\n",
       "      <td>ChIJxbIbrsrzK4gRyKBqOoYlX6k</td>\n",
       "      <td>Ratna Prabha Singh</td>\n",
       "      <td>5</td>\n",
       "      <td>We purchased a home from Activa and closing happened in July this year. The overall experience and process was smooth and well dealt with in spite of challenges posed due to COVID restrictions. They were all with us during the design to building stage and responded to each query and issues promptly and efficiently. They made us feel like family and always solved our issues however tiny or complex they were and ensured timely delivery. Staff is very friendly and top notch. Post delivery service was on point and it was a thorough professional engagement throughout. Kudos to team Activa and all the best for all their future projects. They do not just build homes rather they build Dream Homes..!!</td>\n",
       "    </tr>\n",
       "    <tr>\n",
       "      <th>2</th>\n",
       "      <td>Activa</td>\n",
       "      <td>ChIJxbIbrsrzK4gRyKBqOoYlX6k</td>\n",
       "      <td>Sandesh Vijay</td>\n",
       "      <td>5</td>\n",
       "      <td>They build terrific homes in wonderful communities. A top notch builder in the K-W region.\\n\\nI’ll forever be grateful to their customer service and construction team. I closed my property with them couple weeks ago … Had they not accommodated the on-time closing of my unit, I would have risked losing my pre-approved mortgage (2.5%) that was offered to me two years ago.\\n\\nActiva's entire staff has been very supportive and pleasant to work with… Megan, Jen , Jessica and Others … Thank you all.\\n\\nThink buying a home in K-W Region, Think Activa…</td>\n",
       "    </tr>\n",
       "    <tr>\n",
       "      <th>3</th>\n",
       "      <td>Activa</td>\n",
       "      <td>ChIJxbIbrsrzK4gRyKBqOoYlX6k</td>\n",
       "      <td>Patricia Pickles</td>\n",
       "      <td>5</td>\n",
       "      <td>I have known Tony Giovinazzo for over 20 years.\\nHe is Impressive, Honest and Extremely Hard Working and brings Excellence and Care for the consumer in all he does.\\nHe has created a true professional crafted model in his company that delivers customer satisfaction without question.\\nThe company not only listens but hears and works together with the needs of the clientele.\\nWith his vision and true support they have built a company that exemplifies the needs and desires of others and delivers homes and neighborhoods you cannot help but be proud to be a part of.\\nNot a House but a Home.</td>\n",
       "    </tr>\n",
       "    <tr>\n",
       "      <th>4</th>\n",
       "      <td>Activa</td>\n",
       "      <td>ChIJxbIbrsrzK4gRyKBqOoYlX6k</td>\n",
       "      <td>Ko Hyunjun</td>\n",
       "      <td>5</td>\n",
       "      <td>We purchased our home from Activa around 2022. Our experience with them was great, and we wanted to share our story with Activa.\\n\\nWhen we were chosen to purchase a house from Activa, we were excited as it was very competitive. Dave, who was the representative , was able to help us through the process before design studio.\\n\\nAfter we chose our lot and went through structural upgrades with Dave, we went to design studio to choose designs and trims that go into our house. Maggie was our designer. She was very professional and friendly to work with. We were a picky customer and we changed our choices a lot, but she was very nice and understanding. She also suggested us a lot in terms of choosing. Now our home looks amazing thanks to her.\\n\\nWhen we were done with choices, Tammy was able to take care of all the questions we had. I think that building a home with a builder can arise many questions because it is a complex process and some things can be hard to understand. We just had to email Tammy and she was able to answer every question, which gave us a peace of mind.\\n\\nAfter the home was built and when we were going through warranty process (before closing, after closing), Scott and his team acted quick and worked in a very professional matter. They were paying attention to small details and we were able to correct and fix most of the issues we were able to find. Quality of the build went up higher after we went through home with Scott.\\n\\nThe whole process of purchasing a house from Activa was easier than what we expected and they were very professional. We would recommend Activa to any buyers who are willing to purchase a house from builder. Activa will get you a great quality home with less headaches you have to get. We appreciate Activa’s professionalism, and for a great house.</td>\n",
       "    </tr>\n",
       "  </tbody>\n",
       "</table>\n",
       "</div>"
      ],
      "text/plain": [
       "  Company Name                     Place ID              Author  Rating  \\\n",
       "0       Activa  ChIJxbIbrsrzK4gRyKBqOoYlX6k    Galina Khavrenko       5   \n",
       "1       Activa  ChIJxbIbrsrzK4gRyKBqOoYlX6k  Ratna Prabha Singh       5   \n",
       "2       Activa  ChIJxbIbrsrzK4gRyKBqOoYlX6k       Sandesh Vijay       5   \n",
       "3       Activa  ChIJxbIbrsrzK4gRyKBqOoYlX6k    Patricia Pickles       5   \n",
       "4       Activa  ChIJxbIbrsrzK4gRyKBqOoYlX6k          Ko Hyunjun       5   \n",
       "\n",
       "                                                                                                                                                                                                                                                                                                                                                                                                                                                                                                                                                                                                                                                                                                                                                                                                                                                                                                                                                                                                                                                                                                                                                                                                                                                                                                                                                                                                                                                                                                                                                                                                                                                                                                                                                                                                                                                                             Review Text  \n",
       "0                                                                                                                                                                                                                                                                                                                                                                                                                                                                                                                                                                                                                                                                                                                                                                                                                                                                                                                                                                                                                                                                                                                                                                                                                                                                                                                                                                                                                                                                                                                                                                        We've been a client of Activa Homes for about 5+ years. The quality and design options Activa provides are absolutely amazing. The design and customer care team are always one call away. The Homeowner Orientation, especially for first-time buyers, is very educating. I'm happy to be an Activa homeowner.  \n",
       "1                                                                                                                                                                                                                                                                                                                                                                                                                                                                                                                                                                                                                                                                                                                                                                                                                                                                                                                                                                                                                                                                                                                                                          We purchased a home from Activa and closing happened in July this year. The overall experience and process was smooth and well dealt with in spite of challenges posed due to COVID restrictions. They were all with us during the design to building stage and responded to each query and issues promptly and efficiently. They made us feel like family and always solved our issues however tiny or complex they were and ensured timely delivery. Staff is very friendly and top notch. Post delivery service was on point and it was a thorough professional engagement throughout. Kudos to team Activa and all the best for all their future projects. They do not just build homes rather they build Dream Homes..!!  \n",
       "2                                                                                                                                                                                                                                                                                                                                                                                                                                                                                                                                                                                                                                                                                                                                                                                                                                                                                                                                                                                                                                                                                                                                                                                                                                                                                                                 They build terrific homes in wonderful communities. A top notch builder in the K-W region.\\n\\nI’ll forever be grateful to their customer service and construction team. I closed my property with them couple weeks ago … Had they not accommodated the on-time closing of my unit, I would have risked losing my pre-approved mortgage (2.5%) that was offered to me two years ago.\\n\\nActiva's entire staff has been very supportive and pleasant to work with… Megan, Jen , Jessica and Others … Thank you all.\\n\\nThink buying a home in K-W Region, Think Activa…  \n",
       "3                                                                                                                                                                                                                                                                                                                                                                                                                                                                                                                                                                                                                                                                                                                                                                                                                                                                                                                                                                                                                                                                                                                                                                                                                                                                       I have known Tony Giovinazzo for over 20 years.\\nHe is Impressive, Honest and Extremely Hard Working and brings Excellence and Care for the consumer in all he does.\\nHe has created a true professional crafted model in his company that delivers customer satisfaction without question.\\nThe company not only listens but hears and works together with the needs of the clientele.\\nWith his vision and true support they have built a company that exemplifies the needs and desires of others and delivers homes and neighborhoods you cannot help but be proud to be a part of.\\nNot a House but a Home.  \n",
       "4  We purchased our home from Activa around 2022. Our experience with them was great, and we wanted to share our story with Activa.\\n\\nWhen we were chosen to purchase a house from Activa, we were excited as it was very competitive. Dave, who was the representative , was able to help us through the process before design studio.\\n\\nAfter we chose our lot and went through structural upgrades with Dave, we went to design studio to choose designs and trims that go into our house. Maggie was our designer. She was very professional and friendly to work with. We were a picky customer and we changed our choices a lot, but she was very nice and understanding. She also suggested us a lot in terms of choosing. Now our home looks amazing thanks to her.\\n\\nWhen we were done with choices, Tammy was able to take care of all the questions we had. I think that building a home with a builder can arise many questions because it is a complex process and some things can be hard to understand. We just had to email Tammy and she was able to answer every question, which gave us a peace of mind.\\n\\nAfter the home was built and when we were going through warranty process (before closing, after closing), Scott and his team acted quick and worked in a very professional matter. They were paying attention to small details and we were able to correct and fix most of the issues we were able to find. Quality of the build went up higher after we went through home with Scott.\\n\\nThe whole process of purchasing a house from Activa was easier than what we expected and they were very professional. We would recommend Activa to any buyers who are willing to purchase a house from builder. Activa will get you a great quality home with less headaches you have to get. We appreciate Activa’s professionalism, and for a great house.  "
      ]
     },
     "execution_count": 14,
     "metadata": {},
     "output_type": "execute_result"
    }
   ],
   "source": [
    "df.head()"
   ]
  },
  {
   "cell_type": "code",
   "execution_count": 15,
   "id": "b1bd6be5",
   "metadata": {},
   "outputs": [
    {
     "data": {
      "text/plain": [
       "Author\n",
       "Albino Azzoli              2\n",
       "Stacy Cooper               2\n",
       "Pauline Boone              2\n",
       "Stewart Blair              2\n",
       "Ronak Patel                2\n",
       "                          ..\n",
       "Nina Tsougios              1\n",
       "Scott Lepold               1\n",
       "palak patel                1\n",
       "Sandra Swiet               1\n",
       "Cristobal Islas Morales    1\n",
       "Name: count, Length: 743, dtype: int64"
      ]
     },
     "execution_count": 15,
     "metadata": {},
     "output_type": "execute_result"
    }
   ],
   "source": [
    "# Check for value count\n",
    "df['Author'].value_counts()"
   ]
  },
  {
   "cell_type": "code",
   "execution_count": 16,
   "id": "ecf90fb1",
   "metadata": {},
   "outputs": [
    {
     "data": {
      "text/plain": [
       "Index(['Company Name', 'Place ID', 'Author', 'Rating', 'Review Text'], dtype='object')"
      ]
     },
     "execution_count": 16,
     "metadata": {},
     "output_type": "execute_result"
    }
   ],
   "source": [
    "df.columns"
   ]
  },
  {
   "cell_type": "code",
   "execution_count": 18,
   "id": "a2c1635c",
   "metadata": {},
   "outputs": [],
   "source": [
    "sentiment_model = flair.models.TextClassifier.load('en-sentiment')"
   ]
  },
  {
   "cell_type": "code",
   "execution_count": 23,
   "id": "e55fe787",
   "metadata": {},
   "outputs": [],
   "source": [
    "sample = 'hello world!'\n",
    "sample = flair.data.Sentence(sample)"
   ]
  },
  {
   "cell_type": "code",
   "execution_count": 24,
   "id": "da360ff8",
   "metadata": {},
   "outputs": [],
   "source": [
    "sentiment_model.predict(sample)"
   ]
  },
  {
   "cell_type": "code",
   "execution_count": 25,
   "id": "016340b2",
   "metadata": {},
   "outputs": [
    {
     "data": {
      "text/plain": [
       "Sentence[3]: \"hello world!\" → POSITIVE (0.9968)"
      ]
     },
     "execution_count": 25,
     "metadata": {},
     "output_type": "execute_result"
    }
   ],
   "source": [
    "sample"
   ]
  },
  {
   "cell_type": "code",
   "execution_count": 26,
   "id": "c14214ab",
   "metadata": {},
   "outputs": [
    {
     "data": {
      "text/plain": [
       "['Sentence[3]: \"hello world!\"'/'POSITIVE' (0.9968)]"
      ]
     },
     "execution_count": 26,
     "metadata": {},
     "output_type": "execute_result"
    }
   ],
   "source": [
    "sample.labels"
   ]
  },
  {
   "cell_type": "code",
   "execution_count": 27,
   "id": "9b8c6ad6",
   "metadata": {},
   "outputs": [
    {
     "data": {
      "text/plain": [
       "'POSITIVE'"
      ]
     },
     "execution_count": 27,
     "metadata": {},
     "output_type": "execute_result"
    }
   ],
   "source": [
    "sample.labels[0].value"
   ]
  },
  {
   "cell_type": "code",
   "execution_count": 28,
   "id": "c8214bb0",
   "metadata": {},
   "outputs": [
    {
     "data": {
      "text/plain": [
       "0.9968497157096863"
      ]
     },
     "execution_count": 28,
     "metadata": {},
     "output_type": "execute_result"
    }
   ],
   "source": [
    "sample.labels[0].score"
   ]
  },
  {
   "cell_type": "code",
   "execution_count": 33,
   "id": "ef9c18ac",
   "metadata": {},
   "outputs": [],
   "source": [
    "sentiment = []\n",
    "confidence = []\n",
    "\n",
    "for sentence in df['Review Text']:\n",
    "    if not isinstance(sentence, str) or sentence.strip() == \"\":\n",
    "        sentiment.append(\"\")\n",
    "        confidence.append(\"\")\n",
    "        \n",
    "    else:\n",
    "        sample = flair.data.Sentence(str(sentence))\n",
    "        sentiment_model.predict(sample)\n",
    "\n",
    "        sentiment.append(sample.labels[0].value)\n",
    "        confidence.append(sample.labels[0].score)"
   ]
  },
  {
   "cell_type": "code",
   "execution_count": 34,
   "id": "91444911",
   "metadata": {},
   "outputs": [],
   "source": [
    "df['sentiment'] = sentiment\n",
    "df['confidence'] = confidence"
   ]
  },
  {
   "cell_type": "code",
   "execution_count": 35,
   "id": "0b1694ca",
   "metadata": {},
   "outputs": [
    {
     "data": {
      "text/html": [
       "<div>\n",
       "<style scoped>\n",
       "    .dataframe tbody tr th:only-of-type {\n",
       "        vertical-align: middle;\n",
       "    }\n",
       "\n",
       "    .dataframe tbody tr th {\n",
       "        vertical-align: top;\n",
       "    }\n",
       "\n",
       "    .dataframe thead th {\n",
       "        text-align: right;\n",
       "    }\n",
       "</style>\n",
       "<table border=\"1\" class=\"dataframe\">\n",
       "  <thead>\n",
       "    <tr style=\"text-align: right;\">\n",
       "      <th></th>\n",
       "      <th>Company Name</th>\n",
       "      <th>Place ID</th>\n",
       "      <th>Author</th>\n",
       "      <th>Rating</th>\n",
       "      <th>Review Text</th>\n",
       "      <th>sentiment</th>\n",
       "      <th>confidence</th>\n",
       "    </tr>\n",
       "  </thead>\n",
       "  <tbody>\n",
       "    <tr>\n",
       "      <th>0</th>\n",
       "      <td>Activa</td>\n",
       "      <td>ChIJxbIbrsrzK4gRyKBqOoYlX6k</td>\n",
       "      <td>Galina Khavrenko</td>\n",
       "      <td>5</td>\n",
       "      <td>We've been a client of Activa Homes for about 5+ years. The quality and design options Activa provides are absolutely amazing. The design and customer care team are always one call away. The Homeowner Orientation, especially for first-time buyers, is very educating. I'm happy to be an Activa homeowner.</td>\n",
       "      <td>POSITIVE</td>\n",
       "      <td>0.99843</td>\n",
       "    </tr>\n",
       "    <tr>\n",
       "      <th>1</th>\n",
       "      <td>Activa</td>\n",
       "      <td>ChIJxbIbrsrzK4gRyKBqOoYlX6k</td>\n",
       "      <td>Ratna Prabha Singh</td>\n",
       "      <td>5</td>\n",
       "      <td>We purchased a home from Activa and closing happened in July this year. The overall experience and process was smooth and well dealt with in spite of challenges posed due to COVID restrictions. They were all with us during the design to building stage and responded to each query and issues promptly and efficiently. They made us feel like family and always solved our issues however tiny or complex they were and ensured timely delivery. Staff is very friendly and top notch. Post delivery service was on point and it was a thorough professional engagement throughout. Kudos to team Activa and all the best for all their future projects. They do not just build homes rather they build Dream Homes..!!</td>\n",
       "      <td>POSITIVE</td>\n",
       "      <td>0.999043</td>\n",
       "    </tr>\n",
       "    <tr>\n",
       "      <th>2</th>\n",
       "      <td>Activa</td>\n",
       "      <td>ChIJxbIbrsrzK4gRyKBqOoYlX6k</td>\n",
       "      <td>Sandesh Vijay</td>\n",
       "      <td>5</td>\n",
       "      <td>They build terrific homes in wonderful communities. A top notch builder in the K-W region.\\n\\nI’ll forever be grateful to their customer service and construction team. I closed my property with them couple weeks ago … Had they not accommodated the on-time closing of my unit, I would have risked losing my pre-approved mortgage (2.5%) that was offered to me two years ago.\\n\\nActiva's entire staff has been very supportive and pleasant to work with… Megan, Jen , Jessica and Others … Thank you all.\\n\\nThink buying a home in K-W Region, Think Activa…</td>\n",
       "      <td>POSITIVE</td>\n",
       "      <td>0.993487</td>\n",
       "    </tr>\n",
       "    <tr>\n",
       "      <th>3</th>\n",
       "      <td>Activa</td>\n",
       "      <td>ChIJxbIbrsrzK4gRyKBqOoYlX6k</td>\n",
       "      <td>Patricia Pickles</td>\n",
       "      <td>5</td>\n",
       "      <td>I have known Tony Giovinazzo for over 20 years.\\nHe is Impressive, Honest and Extremely Hard Working and brings Excellence and Care for the consumer in all he does.\\nHe has created a true professional crafted model in his company that delivers customer satisfaction without question.\\nThe company not only listens but hears and works together with the needs of the clientele.\\nWith his vision and true support they have built a company that exemplifies the needs and desires of others and delivers homes and neighborhoods you cannot help but be proud to be a part of.\\nNot a House but a Home.</td>\n",
       "      <td>POSITIVE</td>\n",
       "      <td>0.999273</td>\n",
       "    </tr>\n",
       "    <tr>\n",
       "      <th>4</th>\n",
       "      <td>Activa</td>\n",
       "      <td>ChIJxbIbrsrzK4gRyKBqOoYlX6k</td>\n",
       "      <td>Ko Hyunjun</td>\n",
       "      <td>5</td>\n",
       "      <td>We purchased our home from Activa around 2022. Our experience with them was great, and we wanted to share our story with Activa.\\n\\nWhen we were chosen to purchase a house from Activa, we were excited as it was very competitive. Dave, who was the representative , was able to help us through the process before design studio.\\n\\nAfter we chose our lot and went through structural upgrades with Dave, we went to design studio to choose designs and trims that go into our house. Maggie was our designer. She was very professional and friendly to work with. We were a picky customer and we changed our choices a lot, but she was very nice and understanding. She also suggested us a lot in terms of choosing. Now our home looks amazing thanks to her.\\n\\nWhen we were done with choices, Tammy was able to take care of all the questions we had. I think that building a home with a builder can arise many questions because it is a complex process and some things can be hard to understand. We just had to email Tammy and she was able to answer every question, which gave us a peace of mind.\\n\\nAfter the home was built and when we were going through warranty process (before closing, after closing), Scott and his team acted quick and worked in a very professional matter. They were paying attention to small details and we were able to correct and fix most of the issues we were able to find. Quality of the build went up higher after we went through home with Scott.\\n\\nThe whole process of purchasing a house from Activa was easier than what we expected and they were very professional. We would recommend Activa to any buyers who are willing to purchase a house from builder. Activa will get you a great quality home with less headaches you have to get. We appreciate Activa’s professionalism, and for a great house.</td>\n",
       "      <td>POSITIVE</td>\n",
       "      <td>0.998086</td>\n",
       "    </tr>\n",
       "    <tr>\n",
       "      <th>...</th>\n",
       "      <td>...</td>\n",
       "      <td>...</td>\n",
       "      <td>...</td>\n",
       "      <td>...</td>\n",
       "      <td>...</td>\n",
       "      <td>...</td>\n",
       "      <td>...</td>\n",
       "    </tr>\n",
       "    <tr>\n",
       "      <th>747</th>\n",
       "      <td>Upper Canada Consultants</td>\n",
       "      <td>ChIJ7SRXQnZR04kRgjDSNxbEceE</td>\n",
       "      <td>Liam Burns</td>\n",
       "      <td>5</td>\n",
       "      <td>NaN</td>\n",
       "      <td></td>\n",
       "      <td></td>\n",
       "    </tr>\n",
       "    <tr>\n",
       "      <th>748</th>\n",
       "      <td>Upper Canada Consultants</td>\n",
       "      <td>ChIJ7SRXQnZR04kRgjDSNxbEceE</td>\n",
       "      <td>Trevor Letkemann</td>\n",
       "      <td>5</td>\n",
       "      <td>NaN</td>\n",
       "      <td></td>\n",
       "      <td></td>\n",
       "    </tr>\n",
       "    <tr>\n",
       "      <th>749</th>\n",
       "      <td>Upper Canada Consultants</td>\n",
       "      <td>ChIJ7SRXQnZR04kRgjDSNxbEceE</td>\n",
       "      <td>Dave DeVries</td>\n",
       "      <td>5</td>\n",
       "      <td>NaN</td>\n",
       "      <td></td>\n",
       "      <td></td>\n",
       "    </tr>\n",
       "    <tr>\n",
       "      <th>750</th>\n",
       "      <td>Upper Canada Consultants</td>\n",
       "      <td>ChIJ7SRXQnZR04kRgjDSNxbEceE</td>\n",
       "      <td>Mike Cook</td>\n",
       "      <td>5</td>\n",
       "      <td>NaN</td>\n",
       "      <td></td>\n",
       "      <td></td>\n",
       "    </tr>\n",
       "    <tr>\n",
       "      <th>751</th>\n",
       "      <td>Upper Canada Consultants</td>\n",
       "      <td>ChIJ7SRXQnZR04kRgjDSNxbEceE</td>\n",
       "      <td>Cristobal Islas Morales</td>\n",
       "      <td>5</td>\n",
       "      <td>NaN</td>\n",
       "      <td></td>\n",
       "      <td></td>\n",
       "    </tr>\n",
       "  </tbody>\n",
       "</table>\n",
       "<p>752 rows × 7 columns</p>\n",
       "</div>"
      ],
      "text/plain": [
       "                 Company Name                     Place ID  \\\n",
       "0                      Activa  ChIJxbIbrsrzK4gRyKBqOoYlX6k   \n",
       "1                      Activa  ChIJxbIbrsrzK4gRyKBqOoYlX6k   \n",
       "2                      Activa  ChIJxbIbrsrzK4gRyKBqOoYlX6k   \n",
       "3                      Activa  ChIJxbIbrsrzK4gRyKBqOoYlX6k   \n",
       "4                      Activa  ChIJxbIbrsrzK4gRyKBqOoYlX6k   \n",
       "..                        ...                          ...   \n",
       "747  Upper Canada Consultants  ChIJ7SRXQnZR04kRgjDSNxbEceE   \n",
       "748  Upper Canada Consultants  ChIJ7SRXQnZR04kRgjDSNxbEceE   \n",
       "749  Upper Canada Consultants  ChIJ7SRXQnZR04kRgjDSNxbEceE   \n",
       "750  Upper Canada Consultants  ChIJ7SRXQnZR04kRgjDSNxbEceE   \n",
       "751  Upper Canada Consultants  ChIJ7SRXQnZR04kRgjDSNxbEceE   \n",
       "\n",
       "                      Author  Rating  \\\n",
       "0           Galina Khavrenko       5   \n",
       "1         Ratna Prabha Singh       5   \n",
       "2              Sandesh Vijay       5   \n",
       "3           Patricia Pickles       5   \n",
       "4                 Ko Hyunjun       5   \n",
       "..                       ...     ...   \n",
       "747               Liam Burns       5   \n",
       "748         Trevor Letkemann       5   \n",
       "749             Dave DeVries       5   \n",
       "750                Mike Cook       5   \n",
       "751  Cristobal Islas Morales       5   \n",
       "\n",
       "                                                                                                                                                                                                                                                                                                                                                                                                                                                                                                                                                                                                                                                                                                                                                                                                                                                                                                                                                                                                                                                                                                                                                                                                                                                                                                                                                                                                                                                                                                                                                                                                                                                                                                                                                                                                                                                                               Review Text  \\\n",
       "0                                                                                                                                                                                                                                                                                                                                                                                                                                                                                                                                                                                                                                                                                                                                                                                                                                                                                                                                                                                                                                                                                                                                                                                                                                                                                                                                                                                                                                                                                                                                                                          We've been a client of Activa Homes for about 5+ years. The quality and design options Activa provides are absolutely amazing. The design and customer care team are always one call away. The Homeowner Orientation, especially for first-time buyers, is very educating. I'm happy to be an Activa homeowner.   \n",
       "1                                                                                                                                                                                                                                                                                                                                                                                                                                                                                                                                                                                                                                                                                                                                                                                                                                                                                                                                                                                                                                                                                                                                                            We purchased a home from Activa and closing happened in July this year. The overall experience and process was smooth and well dealt with in spite of challenges posed due to COVID restrictions. They were all with us during the design to building stage and responded to each query and issues promptly and efficiently. They made us feel like family and always solved our issues however tiny or complex they were and ensured timely delivery. Staff is very friendly and top notch. Post delivery service was on point and it was a thorough professional engagement throughout. Kudos to team Activa and all the best for all their future projects. They do not just build homes rather they build Dream Homes..!!   \n",
       "2                                                                                                                                                                                                                                                                                                                                                                                                                                                                                                                                                                                                                                                                                                                                                                                                                                                                                                                                                                                                                                                                                                                                                                                                                                                                                                                   They build terrific homes in wonderful communities. A top notch builder in the K-W region.\\n\\nI’ll forever be grateful to their customer service and construction team. I closed my property with them couple weeks ago … Had they not accommodated the on-time closing of my unit, I would have risked losing my pre-approved mortgage (2.5%) that was offered to me two years ago.\\n\\nActiva's entire staff has been very supportive and pleasant to work with… Megan, Jen , Jessica and Others … Thank you all.\\n\\nThink buying a home in K-W Region, Think Activa…   \n",
       "3                                                                                                                                                                                                                                                                                                                                                                                                                                                                                                                                                                                                                                                                                                                                                                                                                                                                                                                                                                                                                                                                                                                                                                                                                                                                         I have known Tony Giovinazzo for over 20 years.\\nHe is Impressive, Honest and Extremely Hard Working and brings Excellence and Care for the consumer in all he does.\\nHe has created a true professional crafted model in his company that delivers customer satisfaction without question.\\nThe company not only listens but hears and works together with the needs of the clientele.\\nWith his vision and true support they have built a company that exemplifies the needs and desires of others and delivers homes and neighborhoods you cannot help but be proud to be a part of.\\nNot a House but a Home.   \n",
       "4    We purchased our home from Activa around 2022. Our experience with them was great, and we wanted to share our story with Activa.\\n\\nWhen we were chosen to purchase a house from Activa, we were excited as it was very competitive. Dave, who was the representative , was able to help us through the process before design studio.\\n\\nAfter we chose our lot and went through structural upgrades with Dave, we went to design studio to choose designs and trims that go into our house. Maggie was our designer. She was very professional and friendly to work with. We were a picky customer and we changed our choices a lot, but she was very nice and understanding. She also suggested us a lot in terms of choosing. Now our home looks amazing thanks to her.\\n\\nWhen we were done with choices, Tammy was able to take care of all the questions we had. I think that building a home with a builder can arise many questions because it is a complex process and some things can be hard to understand. We just had to email Tammy and she was able to answer every question, which gave us a peace of mind.\\n\\nAfter the home was built and when we were going through warranty process (before closing, after closing), Scott and his team acted quick and worked in a very professional matter. They were paying attention to small details and we were able to correct and fix most of the issues we were able to find. Quality of the build went up higher after we went through home with Scott.\\n\\nThe whole process of purchasing a house from Activa was easier than what we expected and they were very professional. We would recommend Activa to any buyers who are willing to purchase a house from builder. Activa will get you a great quality home with less headaches you have to get. We appreciate Activa’s professionalism, and for a great house.   \n",
       "..                                                                                                                                                                                                                                                                                                                                                                                                                                                                                                                                                                                                                                                                                                                                                                                                                                                                                                                                                                                                                                                                                                                                                                                                                                                                                                                                                                                                                                                                                                                                                                                                                                                                                                                                                                                                                                                                                     ...   \n",
       "747                                                                                                                                                                                                                                                                                                                                                                                                                                                                                                                                                                                                                                                                                                                                                                                                                                                                                                                                                                                                                                                                                                                                                                                                                                                                                                                                                                                                                                                                                                                                                                                                                                                                                                                                                                                                                                                                                    NaN   \n",
       "748                                                                                                                                                                                                                                                                                                                                                                                                                                                                                                                                                                                                                                                                                                                                                                                                                                                                                                                                                                                                                                                                                                                                                                                                                                                                                                                                                                                                                                                                                                                                                                                                                                                                                                                                                                                                                                                                                    NaN   \n",
       "749                                                                                                                                                                                                                                                                                                                                                                                                                                                                                                                                                                                                                                                                                                                                                                                                                                                                                                                                                                                                                                                                                                                                                                                                                                                                                                                                                                                                                                                                                                                                                                                                                                                                                                                                                                                                                                                                                    NaN   \n",
       "750                                                                                                                                                                                                                                                                                                                                                                                                                                                                                                                                                                                                                                                                                                                                                                                                                                                                                                                                                                                                                                                                                                                                                                                                                                                                                                                                                                                                                                                                                                                                                                                                                                                                                                                                                                                                                                                                                    NaN   \n",
       "751                                                                                                                                                                                                                                                                                                                                                                                                                                                                                                                                                                                                                                                                                                                                                                                                                                                                                                                                                                                                                                                                                                                                                                                                                                                                                                                                                                                                                                                                                                                                                                                                                                                                                                                                                                                                                                                                                    NaN   \n",
       "\n",
       "    sentiment confidence  \n",
       "0    POSITIVE    0.99843  \n",
       "1    POSITIVE   0.999043  \n",
       "2    POSITIVE   0.993487  \n",
       "3    POSITIVE   0.999273  \n",
       "4    POSITIVE   0.998086  \n",
       "..        ...        ...  \n",
       "747                       \n",
       "748                       \n",
       "749                       \n",
       "750                       \n",
       "751                       \n",
       "\n",
       "[752 rows x 7 columns]"
      ]
     },
     "execution_count": 35,
     "metadata": {},
     "output_type": "execute_result"
    }
   ],
   "source": [
    "df"
   ]
  },
  {
   "cell_type": "code",
   "execution_count": 36,
   "id": "64b513d4",
   "metadata": {},
   "outputs": [
    {
     "data": {
      "text/plain": [
       "Sentence[7]: \"Very accommodating, knowledgeable, creative!\" → POSITIVE (0.9942)"
      ]
     },
     "execution_count": 36,
     "metadata": {},
     "output_type": "execute_result"
    }
   ],
   "source": [
    "sample"
   ]
  },
  {
   "cell_type": "code",
   "execution_count": 37,
   "id": "d52ba2cf",
   "metadata": {},
   "outputs": [
    {
     "data": {
      "text/plain": [
       "nan"
      ]
     },
     "execution_count": 37,
     "metadata": {},
     "output_type": "execute_result"
    }
   ],
   "source": [
    "sentence"
   ]
  },
  {
   "cell_type": "code",
   "execution_count": null,
   "id": "237c4250",
   "metadata": {},
   "outputs": [],
   "source": []
  },
  {
   "cell_type": "code",
   "execution_count": null,
   "id": "ed3a426c",
   "metadata": {},
   "outputs": [],
   "source": []
  },
  {
   "cell_type": "code",
   "execution_count": null,
   "id": "4c40c36f",
   "metadata": {},
   "outputs": [],
   "source": []
  },
  {
   "cell_type": "code",
   "execution_count": null,
   "id": "bccc1e6f",
   "metadata": {},
   "outputs": [],
   "source": []
  },
  {
   "cell_type": "code",
   "execution_count": null,
   "id": "d510384d",
   "metadata": {},
   "outputs": [],
   "source": []
  }
 ],
 "metadata": {
  "kernelspec": {
   "display_name": "Python 3 (ipykernel)",
   "language": "python",
   "name": "python3"
  },
  "language_info": {
   "codemirror_mode": {
    "name": "ipython",
    "version": 3
   },
   "file_extension": ".py",
   "mimetype": "text/x-python",
   "name": "python",
   "nbconvert_exporter": "python",
   "pygments_lexer": "ipython3",
   "version": "3.11.5"
  }
 },
 "nbformat": 4,
 "nbformat_minor": 5
}

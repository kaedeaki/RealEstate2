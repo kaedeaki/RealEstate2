{
 "cells": [
  {
   "cell_type": "code",
   "execution_count": 1,
   "id": "58678031",
   "metadata": {},
   "outputs": [
    {
     "name": "stdout",
     "output_type": "stream",
     "text": [
      "Requirement already satisfied: outscraper in c:\\users\\madoka\\anaconda3\\lib\\site-packages (4.1.0)\n",
      "Requirement already satisfied: requests in c:\\users\\madoka\\anaconda3\\lib\\site-packages (from outscraper) (2.31.0)\n",
      "Requirement already satisfied: certifi>=2017.4.17 in c:\\users\\madoka\\anaconda3\\lib\\site-packages (from requests->outscraper) (2023.7.22)\n",
      "Requirement already satisfied: charset-normalizer<4,>=2 in c:\\users\\madoka\\anaconda3\\lib\\site-packages (from requests->outscraper) (2.0.4)\n",
      "Requirement already satisfied: idna<4,>=2.5 in c:\\users\\madoka\\anaconda3\\lib\\site-packages (from requests->outscraper) (3.4)\n",
      "Requirement already satisfied: urllib3<3,>=1.21.1 in c:\\users\\madoka\\anaconda3\\lib\\site-packages (from requests->outscraper) (1.26.14)\n"
     ]
    }
   ],
   "source": [
    "! pip install outscraper"
   ]
  },
  {
   "cell_type": "code",
   "execution_count": 2,
   "id": "8b2d4449",
   "metadata": {},
   "outputs": [
    {
     "name": "stdout",
     "output_type": "stream",
     "text": [
      "CSV file 'output_results.csv' created successfully.\n"
     ]
    }
   ],
   "source": [
    "import csv\n",
    "from outscraper import ApiClient\n",
    "\n",
    "def get_google_maps_results(api_key, csv_filename):\n",
    "    api_client = ApiClient(api_key=api_key)\n",
    "\n",
    "    try:\n",
    "        with open(csv_filename, 'r', encoding='utf-8') as csv_file:\n",
    "            reader = csv.DictReader(csv_file)\n",
    "            company_list = [row['company_name'] for row in reader]\n",
    "\n",
    "        all_results = {}\n",
    "\n",
    "        for company_name in company_list:\n",
    "            try:\n",
    "                result = api_client.google_maps_search(f'{company_name}, Ontario, Canada', limit=1)\n",
    "                all_results[company_name] = result\n",
    "            except Exception as e:\n",
    "                print(f\"Error for {company_name}: {str(e)}\")\n",
    "\n",
    "        return all_results\n",
    "    except Exception as e:\n",
    "        print(f\"Error: {str(e)}\")\n",
    "        return None\n",
    "\n",
    "def create_csv(api_key, input_csv_filename, output_csv_filename):\n",
    "    results = get_google_maps_results(api_key, input_csv_filename)\n",
    "\n",
    "    if results:\n",
    "        with open(output_csv_filename, 'w', encoding='utf-8', newline='') as csv_file:\n",
    "            fieldnames = ['company_name', 'result']  \n",
    "            writer = csv.DictWriter(csv_file, fieldnames=fieldnames)\n",
    "            writer.writeheader()\n",
    "\n",
    "            for company_name, result in results.items():\n",
    "                writer.writerow({'company_name': company_name, 'result': result})\n",
    "        print(f\"CSV file '{output_csv_filename}' created successfully.\")\n",
    "    else:\n",
    "        print(\"CSV creation failed.\")\n",
    "\n",
    "api_key = 'REDACTED'\n",
    "input_csv_filename = 'builder_info_2_20selected.csv'\n",
    "output_csv_filename = 'output_results.csv'\n",
    "\n",
    "create_csv(api_key, input_csv_filename, output_csv_filename)\n",
    "\n"
   ]
  },
  {
   "cell_type": "code",
   "execution_count": null,
   "id": "9ed9678b",
   "metadata": {},
   "outputs": [],
   "source": []
  }
 ],
 "metadata": {
  "kernelspec": {
   "display_name": "Python 3 (ipykernel)",
   "language": "python",
   "name": "python3"
  },
  "language_info": {
   "codemirror_mode": {
    "name": "ipython",
    "version": 3
   },
   "file_extension": ".py",
   "mimetype": "text/x-python",
   "name": "python",
   "nbconvert_exporter": "python",
   "pygments_lexer": "ipython3",
   "version": "3.8.5"
  }
 },
 "nbformat": 4,
 "nbformat_minor": 5
}

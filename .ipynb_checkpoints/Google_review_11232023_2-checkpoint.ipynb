{
 "cells": [
  {
   "cell_type": "code",
   "execution_count": 2,
   "id": "bdc301d3",
   "metadata": {},
   "outputs": [
    {
     "name": "stdout",
     "output_type": "stream",
     "text": [
      "Collecting outscraper\n",
      "  Downloading outscraper-4.1.0-py3-none-any.whl (15 kB)\n",
      "Requirement already satisfied: requests in c:\\users\\madoka\\anaconda3\\lib\\site-packages (from outscraper) (2.31.0)\n",
      "Requirement already satisfied: idna<4,>=2.5 in c:\\users\\madoka\\anaconda3\\lib\\site-packages (from requests->outscraper) (3.4)\n",
      "Requirement already satisfied: charset-normalizer<4,>=2 in c:\\users\\madoka\\anaconda3\\lib\\site-packages (from requests->outscraper) (2.0.4)\n",
      "Requirement already satisfied: certifi>=2017.4.17 in c:\\users\\madoka\\anaconda3\\lib\\site-packages (from requests->outscraper) (2023.7.22)\n",
      "Requirement already satisfied: urllib3<3,>=1.21.1 in c:\\users\\madoka\\anaconda3\\lib\\site-packages (from requests->outscraper) (1.26.14)\n",
      "Installing collected packages: outscraper\n",
      "Successfully installed outscraper-4.1.0\n"
     ]
    }
   ],
   "source": [
    "! pip install outscraper"
   ]
  },
  {
   "cell_type": "code",
   "execution_count": 8,
   "id": "ddd312ff",
   "metadata": {},
   "outputs": [
    {
     "name": "stdout",
     "output_type": "stream",
     "text": [
      "結果がjsonファイルに保存されました。\n"
     ]
    }
   ],
   "source": [
    "import csv\n",
    "import json\n",
    "from outscraper import ApiClient\n",
    "\n",
    "api_client = ApiClient(api_key='YTVkNzRhOWRhMmFlNDFkYzkwOWFhZWY2ZTYxNzQ1NTJ8OGNhYjBjZWNmNw')\n",
    "\n",
    "with open('builder_info_2_20selected.csv', 'r', encoding='utf-8') as csv_file:\n",
    "    reader = csv.DictReader(csv_file)\n",
    "    company_list = [row['company_name'] for row in reader]\n",
    "\n",
    "all_results = {}\n",
    "\n",
    "for company_name in company_list:\n",
    "    try:\n",
    "        result = api_client.google_maps_search(f'{company_name}, Ontario, Canada', limit=1)\n",
    "        \n",
    "        all_results[company_name] = result\n",
    "    except Exception as e:\n",
    "        print(f\"Error for {company_name}: {str(e)}\")\n",
    "\n",
    "with open('google_maps_results_by_company.json', 'w', encoding='utf-8') as json_file:\n",
    "    json.dump(all_results, json_file, ensure_ascii=False, indent=2)\n",
    "\n",
    "print('The result was saved as json file.')\n"
   ]
  },
  {
   "cell_type": "code",
   "execution_count": 2,
   "id": "261aae11",
   "metadata": {},
   "outputs": [
    {
     "name": "stdout",
     "output_type": "stream",
     "text": [
      "The file was convered to csv.\n"
     ]
    }
   ],
   "source": [
    "import pandas as pd\n",
    "import json\n",
    "\n",
    "with open('google_maps_results_by_company.json', 'r', encoding='utf-8') as json_file:\n",
    "    data = json.load(json_file)\n",
    "\n",
    "df = pd.json_normalize(data)\n",
    "\n",
    "df.to_csv('google_maps_results_by_company4000.csv', index=False, encoding='utf-8')\n",
    "\n",
    "print('The file was convered to csv.')\n"
   ]
  },
  {
   "cell_type": "code",
   "execution_count": null,
   "id": "f82e7c17",
   "metadata": {},
   "outputs": [],
   "source": []
  }
 ],
 "metadata": {
  "kernelspec": {
   "display_name": "Python 3 (ipykernel)",
   "language": "python",
   "name": "python3"
  },
  "language_info": {
   "codemirror_mode": {
    "name": "ipython",
    "version": 3
   },
   "file_extension": ".py",
   "mimetype": "text/x-python",
   "name": "python",
   "nbconvert_exporter": "python",
   "pygments_lexer": "ipython3",
   "version": "3.11.5"
  }
 },
 "nbformat": 4,
 "nbformat_minor": 5
}

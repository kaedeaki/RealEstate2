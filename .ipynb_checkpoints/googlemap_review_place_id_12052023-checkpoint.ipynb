{
 "cells": [
  {
   "cell_type": "code",
   "execution_count": null,
   "id": "6c00752f",
   "metadata": {},
   "outputs": [],
   "source": [
    "import requests\n",
    "import json\n",
    "\n",
    "def get_google_maps_reviews(api_key, place_ids):\n",
    "    base_url = \"https://maps.googleapis.com/maps/api/place/details/json\"\n",
    "    \n",
    "    for place_id in place_ids:\n",
    "        params = {\n",
    "            'place_id': place_id,\n",
    "            'fields': 'reviews',\n",
    "            'key': api_key,\n",
    "        }\n",
    "\n",
    "        response = requests.get(base_url, params=params)\n",
    "        data = response.json()\n",
    "\n",
    "        if 'reviews' in data['result']:\n",
    "            reviews = data['result']['reviews']\n",
    "            for review in reviews:\n",
    "                author_name = review['author_name']\n",
    "                rating = review['rating']\n",
    "                text = review['text']\n",
    "                print(f\"Place ID: {place_id}, Author: {author_name}, Rating: {rating}, Review: {text}\")\n",
    "        else:\n",
    "            print(f\"No reviews found for Place ID: {place_id}\")\n",
    "\n",
    "# Replace 'YOUR_API_KEY' with your actual Google Maps API key\n",
    "api_key = 'YTVkNzRhOWRhMmFlNDFkYzkwOWFhZWY2ZTYxNzQ1NTJ8OGNhYjBjZWNmNw'\n",
    "\n",
    "# Replace 'PLACE_ID_1', 'PLACE_ID_2', etc. with the actual place IDs for each company\n",
    "place_ids = ['ChIJxbIbrsrzK4gRyKBqOoYlX6k', 'ChIJJ5_TX-IA1YkR6nZEdM6l0Sc', 'ChIJ-0bany_lLogRUBnpws5gzI4']\n",
    "\n",
    "get_google_maps_reviews(api_key, place_ids)\n"
   ]
  },
  {
   "cell_type": "code",
   "execution_count": null,
   "id": "0e0538fa",
   "metadata": {},
   "outputs": [],
   "source": [
    "import requests\n",
    "\n",
    "def get_google_maps_reviews(api_key, place_id):\n",
    "    base_url = \"https://maps.googleapis.com/maps/api/place/details/json\"\n",
    "    params = {\n",
    "        'place_id': place_id,\n",
    "        'fields': 'reviews',\n",
    "        'key': api_key,\n",
    "    }\n",
    "\n",
    "    response = requests.get(base_url, params=params)\n",
    "    data = response.json()\n",
    "\n",
    "    if 'reviews' in data.get('result', {}):\n",
    "        reviews = data['result']['reviews']\n",
    "        return reviews\n",
    "    else:\n",
    "        return None\n",
    "\n",
    "# 事前に取得したAPIキーを設定\n",
    "api_key = 'YTVkNzRhOWRhMmFlNDFkYzkwOWFhZWY2ZTYxNzQ1NTJ8OGNhYjBjZWNmNw'\n",
    "\n",
    "# 取得したい場所のplace_idを指定\n",
    "place_id = 'ChIJJ5_TX-IA1YkR6nZEdM6l0Sc'\n",
    "\n",
    "reviews = get_google_maps_reviews(api_key, place_id)\n",
    "\n",
    "if reviews:\n",
    "    for review in reviews:\n",
    "        print(f\"Author: {review['author_name']}, Rating: {review['rating']}, Text: {review['text']}\")\n",
    "else:\n",
    "    print(\"No reviews found.\")\n"
   ]
  },
  {
   "cell_type": "code",
   "execution_count": null,
   "id": "d21bb3c6",
   "metadata": {},
   "outputs": [],
   "source": [
    "from bs4 import BeautifulSoup\n",
    "!pip3 install requests\n",
    "import requests\n",
    "import ast"
   ]
  },
  {
   "cell_type": "code",
   "execution_count": null,
   "id": "1d942d79",
   "metadata": {},
   "outputs": [],
   "source": [
    "key = 'YTVkNzRhOWRhMmFlNDFkYzkwOWFhZWY2ZTYxNzQ1NTJ8OGNhYjBjZWNmNw' # 上記で作成したAPIキーを入れる\n",
    "placeId = 'ChIJJ5_TX-IA1YkR6nZEdM6l0Sc'\n",
    "\n",
    "urlName = \"https://maps.googleapis.com/maps/api/place/details/json?placeid={0}&key={1}\".format(placeId,key)\n",
    "dataHTML = requests.get(urlName)\n",
    "soup = BeautifulSoup(dataHTML.content, \"html.parser\")\n",
    "\n",
    "soup = ast.literal_eval(str(soup))\n",
    "print(soup['result']['reviews'])"
   ]
  },
  {
   "cell_type": "code",
   "execution_count": null,
   "id": "12f288c9",
   "metadata": {},
   "outputs": [],
   "source": []
  },
  {
   "cell_type": "markdown",
   "id": "80649613",
   "metadata": {},
   "source": [
    "Below code is working."
   ]
  },
  {
   "cell_type": "code",
   "execution_count": null,
   "id": "30c412e6",
   "metadata": {},
   "outputs": [],
   "source": [
    "! pip install outscraper\n",
    "! pip install -U googlemaps pip install pandas"
   ]
  },
  {
   "cell_type": "code",
   "execution_count": null,
   "id": "cbdf1945",
   "metadata": {},
   "outputs": [],
   "source": [
    "import csv\n",
    "from outscraper import ApiClient\n",
    "#import googlemaps import pandas as pd\n"
   ]
  },
  {
   "cell_type": "code",
   "execution_count": null,
   "id": "e0b63d52",
   "metadata": {},
   "outputs": [],
   "source": [
    "api_client = ApiClient(api_key='YTVkNzRhOWRhMmFlNDFkYzkwOWFhZWY2ZTYxNzQ1NTJ8OGNhYjBjZWNmNw')\n",
    "results = api_client.google_maps_reviews('ChIJLeO7za44K4gRDb2YOuTLIO0', reviews_limit=3)"
   ]
  },
  {
   "cell_type": "code",
   "execution_count": null,
   "id": "e14aa20d",
   "metadata": {
    "scrolled": true
   },
   "outputs": [],
   "source": [
    "print(results)"
   ]
  },
  {
   "cell_type": "code",
   "execution_count": null,
   "id": "81c4a270",
   "metadata": {},
   "outputs": [],
   "source": []
  },
  {
   "cell_type": "markdown",
   "id": "532742c0",
   "metadata": {},
   "source": [
    "chat GPT code "
   ]
  },
  {
   "cell_type": "code",
   "execution_count": null,
   "id": "7649520a",
   "metadata": {},
   "outputs": [],
   "source": [
    "import csv\n",
    "from outscraper import ApiClient\n",
    "\n",
    "api_key = 'YTVkNzRhOWRhMmFlNDFkYzkwOWFhZWY2ZTYxNzQ1NTJ8OGNhYjBjZWNmNw'\n",
    "api_client = ApiClient(api_key=api_key)\n",
    "results = api_client.google_maps_reviews('ChIJLeO7za44K4gRDb2YOuTLIO0', reviews_limit=3)\n",
    "\n",
    "for result in results:\n",
    "    place_id = result['place_id']\n",
    "    name = result['name']\n",
    "    \n",
    "    print(f\"\\nReviews for {name} (Place ID: {place_id}):\\n\")\n",
    "    \n",
    "    for review_data in result.get('reviews_data', []):\n",
    "        review_text = review_data.get('review_text', '')\n",
    "        author_name = review_data.get('author_title', '')\n",
    "        review_rating = review_data.get('review_rating', 0)\n",
    "        \n",
    "        print(f\"Author: {author_name}\")\n",
    "        print(f\"Rating: {review_rating}\")\n",
    "        print(f\"Review Text: {review_text}\\n\")\n"
   ]
  },
  {
   "cell_type": "markdown",
   "id": "6d844e4e",
   "metadata": {},
   "source": [
    "Khaled mentoring"
   ]
  },
  {
   "cell_type": "code",
   "execution_count": 1,
   "id": "0b3418a6",
   "metadata": {},
   "outputs": [],
   "source": [
    "import csv\n",
    "from outscraper import ApiClient\n",
    "\n",
    "def getreview(place_id):\n",
    "    \n",
    "    api_key = 'YTVkNzRhOWRhMmFlNDFkYzkwOWFhZWY2ZTYxNzQ1NTJ8OGNhYjBjZWNmNw'\n",
    "    api_client = ApiClient(api_key=api_key)\n",
    "    results = api_client.google_maps_reviews(place_id, reviews_limit=3)\n",
    "\n",
    "    for result in results:\n",
    "        place_id = result['place_id']\n",
    "        name = result['name']\n",
    "    \n",
    "        print(f\"\\nReviews for {name} (Place ID: {place_id}):\\n\")\n",
    "    \n",
    "        for review_data in result.get('reviews_data', []):\n",
    "            review_text = review_data.get('review_text', '')\n",
    "            author_name = review_data.get('author_title', '')\n",
    "            review_rating = review_data.get('review_rating', 0)\n",
    "        \n",
    "            print(f\"Author: {author_name}\")\n",
    "            print(f\"Rating: {review_rating}\")\n",
    "            print(f\"Review Text: {review_text}\\n\")"
   ]
  },
  {
   "cell_type": "code",
   "execution_count": null,
   "id": "6a196d9a",
   "metadata": {},
   "outputs": [],
   "source": [
    "# \"Activa\"\n",
    "# \"place_id\": \"ChIJxbIbrsrzK4gRyKBqOoYlX6k\"\n",
    "    \n",
    "# \"Alma Mechanical\"\n",
    "# \"place_id\": \"ChIJJ5_TX-IA1YkR6nZEdM6l0Sc\"\n",
    "    \n",
    "# \"CCR Build + Remodel Inc.\"\n",
    "# \"place_id\": \"ChIJ-0bany_lLogRUBnpws5gzI4\"\n",
    "    \n",
    "# \"Digreen Homes Inc.\"\n",
    "# \"place_id\": \"ChIJ2yfX4tjU1IkRbct8G2DI2nA\"\n",
    "    \n",
    "# \"Ecocor Construction Ltd.\"\n",
    "# \"place_id\": \"ChIJLeO7za44K4gRDb2YOuTLIO0\"\n",
    "    \n",
    "# \"Fusion Homes\"\n",
    "# \"place_id\": \"ChIJE1rXfZiEK4gReqaygRXkfKU\"\n"
   ]
  },
  {
   "cell_type": "code",
   "execution_count": 2,
   "id": "56404fe8",
   "metadata": {},
   "outputs": [
    {
     "name": "stdout",
     "output_type": "stream",
     "text": [
      "Requirement already satisfied: pandas in c:\\users\\madoka\\anaconda3\\lib\\site-packages (1.5.3)\n",
      "Requirement already satisfied: python-dateutil>=2.8.1 in c:\\users\\madoka\\anaconda3\\lib\\site-packages (from pandas) (2.8.2)\n",
      "Requirement already satisfied: numpy>=1.20.3 in c:\\users\\madoka\\anaconda3\\lib\\site-packages (from pandas) (1.23.5)\n",
      "Requirement already satisfied: pytz>=2020.1 in c:\\users\\madoka\\anaconda3\\lib\\site-packages (from pandas) (2022.7)\n",
      "Requirement already satisfied: six>=1.5 in c:\\users\\madoka\\anaconda3\\lib\\site-packages (from python-dateutil>=2.8.1->pandas) (1.16.0)\n"
     ]
    }
   ],
   "source": [
    "! pip install pandas\n",
    "import pandas as pd\n"
   ]
  },
  {
   "cell_type": "code",
   "execution_count": null,
   "id": "23195601",
   "metadata": {},
   "outputs": [],
   "source": []
  },
  {
   "cell_type": "code",
   "execution_count": 3,
   "id": "a94b1b68",
   "metadata": {},
   "outputs": [],
   "source": [
    "df = pd.DataFrame()"
   ]
  },
  {
   "cell_type": "code",
   "execution_count": 4,
   "id": "b519fc1e",
   "metadata": {},
   "outputs": [
    {
     "name": "stderr",
     "output_type": "stream",
     "text": [
      "C:\\Users\\Madoka\\AppData\\Local\\Temp\\ipykernel_11368\\1101523593.py:4: FutureWarning: The frame.append method is deprecated and will be removed from pandas in a future version. Use pandas.concat instead.\n",
      "  df = df.append(new_row, ignore_index=True)\n"
     ]
    }
   ],
   "source": [
    "df = pd.DataFrame(columns=['name','place_id'])\n",
    "\n",
    "new_row = {'name':'Activa', 'place_id':'ChIJxbIbrsrzK4gRyKBqOoYlX6k'}\n",
    "df = df.append(new_row, ignore_index=True)\n"
   ]
  },
  {
   "cell_type": "code",
   "execution_count": 5,
   "id": "64beb876",
   "metadata": {},
   "outputs": [
    {
     "name": "stderr",
     "output_type": "stream",
     "text": [
      "C:\\Users\\Madoka\\AppData\\Local\\Temp\\ipykernel_11368\\3509312691.py:2: FutureWarning: The frame.append method is deprecated and will be removed from pandas in a future version. Use pandas.concat instead.\n",
      "  df = df.append(new_row, ignore_index=True)\n"
     ]
    }
   ],
   "source": [
    "\n",
    "new_row = {'name':'Alma Mechanical', 'place_id':'ChIJJ5_TX-IA1YkR6nZEdM6l0Sc'}\n",
    "df = df.append(new_row, ignore_index=True)"
   ]
  },
  {
   "cell_type": "code",
   "execution_count": 6,
   "id": "84cde1c7",
   "metadata": {},
   "outputs": [
    {
     "name": "stderr",
     "output_type": "stream",
     "text": [
      "C:\\Users\\Madoka\\AppData\\Local\\Temp\\ipykernel_11368\\2026085342.py:2: FutureWarning: The frame.append method is deprecated and will be removed from pandas in a future version. Use pandas.concat instead.\n",
      "  df = df.append(new_row, ignore_index=True)\n"
     ]
    }
   ],
   "source": [
    "\n",
    "new_row = {'name':'CCR Build + Remodel Inc.', 'place_id':'ChIJ-0bany_lLogRUBnpws5gzI4'}\n",
    "df = df.append(new_row, ignore_index=True)"
   ]
  },
  {
   "cell_type": "code",
   "execution_count": 7,
   "id": "c6cb16eb",
   "metadata": {},
   "outputs": [
    {
     "name": "stderr",
     "output_type": "stream",
     "text": [
      "C:\\Users\\Madoka\\AppData\\Local\\Temp\\ipykernel_11368\\157751421.py:2: FutureWarning: The frame.append method is deprecated and will be removed from pandas in a future version. Use pandas.concat instead.\n",
      "  df = df.append(new_row, ignore_index=True)\n"
     ]
    }
   ],
   "source": [
    "\n",
    "new_row = {'name':'Digreen Homes Inc.', 'place_id':'ChIJ2yfX4tjU1IkRbct8G2DI2nA'}\n",
    "df = df.append(new_row, ignore_index=True)"
   ]
  },
  {
   "cell_type": "code",
   "execution_count": 8,
   "id": "942e6751",
   "metadata": {},
   "outputs": [
    {
     "name": "stderr",
     "output_type": "stream",
     "text": [
      "C:\\Users\\Madoka\\AppData\\Local\\Temp\\ipykernel_11368\\1134262321.py:2: FutureWarning: The frame.append method is deprecated and will be removed from pandas in a future version. Use pandas.concat instead.\n",
      "  df = df.append(new_row, ignore_index=True)\n"
     ]
    }
   ],
   "source": [
    "\n",
    "new_row = {'name':'Ecocor Construction Ltd.', 'place_id':'ChIJLeO7za44K4gRDb2YOuTLIO0'}\n",
    "df = df.append(new_row, ignore_index=True)"
   ]
  },
  {
   "cell_type": "code",
   "execution_count": 9,
   "id": "155a40a4",
   "metadata": {},
   "outputs": [
    {
     "name": "stderr",
     "output_type": "stream",
     "text": [
      "C:\\Users\\Madoka\\AppData\\Local\\Temp\\ipykernel_11368\\614187875.py:2: FutureWarning: The frame.append method is deprecated and will be removed from pandas in a future version. Use pandas.concat instead.\n",
      "  df = df.append(new_row, ignore_index=True)\n"
     ]
    }
   ],
   "source": [
    "\n",
    "new_row = {'name':'Fusion Homes', 'place_id':'ChIJE1rXfZiEK4gReqaygRXkfKU'}\n",
    "df = df.append(new_row, ignore_index=True)"
   ]
  },
  {
   "cell_type": "code",
   "execution_count": 10,
   "id": "7ff405c3",
   "metadata": {},
   "outputs": [
    {
     "data": {
      "text/html": [
       "<div>\n",
       "<style scoped>\n",
       "    .dataframe tbody tr th:only-of-type {\n",
       "        vertical-align: middle;\n",
       "    }\n",
       "\n",
       "    .dataframe tbody tr th {\n",
       "        vertical-align: top;\n",
       "    }\n",
       "\n",
       "    .dataframe thead th {\n",
       "        text-align: right;\n",
       "    }\n",
       "</style>\n",
       "<table border=\"1\" class=\"dataframe\">\n",
       "  <thead>\n",
       "    <tr style=\"text-align: right;\">\n",
       "      <th></th>\n",
       "      <th>name</th>\n",
       "      <th>place_id</th>\n",
       "    </tr>\n",
       "  </thead>\n",
       "  <tbody>\n",
       "    <tr>\n",
       "      <th>0</th>\n",
       "      <td>Activa</td>\n",
       "      <td>ChIJxbIbrsrzK4gRyKBqOoYlX6k</td>\n",
       "    </tr>\n",
       "    <tr>\n",
       "      <th>1</th>\n",
       "      <td>Alma Mechanical</td>\n",
       "      <td>ChIJJ5_TX-IA1YkR6nZEdM6l0Sc</td>\n",
       "    </tr>\n",
       "    <tr>\n",
       "      <th>2</th>\n",
       "      <td>CCR Build + Remodel Inc.</td>\n",
       "      <td>ChIJ-0bany_lLogRUBnpws5gzI4</td>\n",
       "    </tr>\n",
       "    <tr>\n",
       "      <th>3</th>\n",
       "      <td>Digreen Homes Inc.</td>\n",
       "      <td>ChIJ2yfX4tjU1IkRbct8G2DI2nA</td>\n",
       "    </tr>\n",
       "    <tr>\n",
       "      <th>4</th>\n",
       "      <td>Ecocor Construction Ltd.</td>\n",
       "      <td>ChIJLeO7za44K4gRDb2YOuTLIO0</td>\n",
       "    </tr>\n",
       "  </tbody>\n",
       "</table>\n",
       "</div>"
      ],
      "text/plain": [
       "                       name                     place_id\n",
       "0                    Activa  ChIJxbIbrsrzK4gRyKBqOoYlX6k\n",
       "1           Alma Mechanical  ChIJJ5_TX-IA1YkR6nZEdM6l0Sc\n",
       "2  CCR Build + Remodel Inc.  ChIJ-0bany_lLogRUBnpws5gzI4\n",
       "3        Digreen Homes Inc.  ChIJ2yfX4tjU1IkRbct8G2DI2nA\n",
       "4  Ecocor Construction Ltd.  ChIJLeO7za44K4gRDb2YOuTLIO0"
      ]
     },
     "execution_count": 10,
     "metadata": {},
     "output_type": "execute_result"
    }
   ],
   "source": [
    "df.head()"
   ]
  },
  {
   "cell_type": "code",
   "execution_count": 11,
   "id": "8e1073cc",
   "metadata": {},
   "outputs": [
    {
     "name": "stdout",
     "output_type": "stream",
     "text": [
      "\n",
      "Reviews for Activa (Place ID: ChIJxbIbrsrzK4gRyKBqOoYlX6k):\n",
      "\n",
      "Author: Galina Khavrenko\n",
      "Rating: 5\n",
      "Review Text: We've been a client of Activa Homes for about 5+ years. The quality and design options Activa provides are absolutely amazing. The design and customer care team are always one call away. The Homeowner Orientation, especially for first-time buyers, is very educating. I'm happy to be an Activa homeowner.\n",
      "\n",
      "Author: Sandesh Vijay\n",
      "Rating: 5\n",
      "Review Text: They build terrific homes in wonderful communities. A top notch builder in the K-W region.\n",
      "\n",
      "I’ll forever be grateful to their customer service and construction team. I closed my property with them couple weeks ago … Had they not accommodated the on-time closing of my unit, I would have risked losing my pre-approved mortgage (2.5%) that was offered to me two years ago.\n",
      "\n",
      "Activa's entire staff has been very supportive and pleasant to work with… Megan, Jen , Jessica and Others … Thank you all.\n",
      "\n",
      "Think buying a home in K-W Region, Think Activa…\n",
      "\n",
      "Author: Ko Hyunjun\n",
      "Rating: 5\n",
      "Review Text: We purchased our home from Activa around 2022. Our experience with them was great, and we wanted to share our story with Activa.\n",
      "\n",
      "When we were chosen to purchase a house from Activa, we were excited as it was very competitive. Dave, who was the representative , was able to help us through the process before design studio.\n",
      "\n",
      "After we chose our lot and went through structural upgrades with Dave, we went to design studio to choose designs and trims that go into our house. Maggie was our designer. She was very professional and friendly to work with. We were a picky customer and we changed our choices a lot, but she was very nice and understanding. She also suggested us a lot in terms of choosing. Now our home looks amazing thanks to her.\n",
      "\n",
      "When we were done with choices, Tammy was able to take care of all the questions we had. I think that building a home with a builder can arise many questions because it is a complex process and some things can be hard to understand. We just had to email Tammy and she was able to answer every question, which gave us a peace of mind.\n",
      "\n",
      "After the home was built and when we were going through warranty process (before closing, after closing), Scott and his team acted quick and worked in a very professional matter. They were paying attention to small details and we were able to correct and fix most of the issues we were able to find. Quality of the build went up higher after we went through home with Scott.\n",
      "\n",
      "The whole process of purchasing a house from Activa was easier than what we expected and they were very professional. We would recommend Activa to any buyers who are willing to purchase a house from builder. Activa will get you a great quality home with less headaches you have to get. We appreciate Activa’s professionalism, and for a great house.\n",
      "\n"
     ]
    }
   ],
   "source": [
    "getreview('ChIJxbIbrsrzK4gRyKBqOoYlX6k')"
   ]
  },
  {
   "cell_type": "code",
   "execution_count": 12,
   "id": "470cdf96",
   "metadata": {},
   "outputs": [
    {
     "name": "stdout",
     "output_type": "stream",
     "text": [
      "\n",
      "Reviews for Digreen Homes (Place ID: ChIJ2yfX4tjU1IkRbct8G2DI2nA):\n",
      "\n",
      "Author: S S\n",
      "Rating: 4\n",
      "Review Text: We started off on a bad note with all the delays and miscommunication from the builder itself.  Sad the builder does not care or not even acknowledging emails.\n",
      "\n",
      "As soon as Dawn and Warren came on board I can give them 5star as the communication has been so clear and no run arounds. Dawn and Warren really helped close loops and returned phone calls. They both have amazing customer service skills. Thank you!\n",
      "\n",
      "Author: Harjeet bajwa\n",
      "Rating: 1\n",
      "Review Text: Worst builder ever to deal with.. we were supposed to get our house in August 2023 which we booked in 2021 on countryside and Torbram Brampton location but construction did not even start..they said they have dispute with city.. city said they were not even allowed to sell the lots before approval from city.. total fraud.. here we are stuck can’t even buy another house because they are not refunding our money.. stay away from this builder.they change their name for every new site.. total scam.. taking advantage of loopholes in the system..\n",
      "\n",
      "Author: Abhishek Tiwari\n",
      "Rating: 1\n",
      "Review Text: Don't give your hard earn money to this builder, will take advantage of buyer's trust & walk away due broken system of Ontario, See the pictures of home delivered by builder, with nails on floor, no countertop, no mirror, no outlet for microwave, no garage door, unfinished stairs, no gravel etc etc - builder delivered home unfinished & not safe for kids, after one month of closing they don't reply email or want to finish the work they left.\n",
      "\n"
     ]
    }
   ],
   "source": [
    "getreview('ChIJ2yfX4tjU1IkRbct8G2DI2nA')"
   ]
  },
  {
   "cell_type": "code",
   "execution_count": 13,
   "id": "cb44368a",
   "metadata": {},
   "outputs": [
    {
     "name": "stdout",
     "output_type": "stream",
     "text": [
      "\n",
      "Reviews for Alma Mechanical (Place ID: ChIJJ5_TX-IA1YkR6nZEdM6l0Sc):\n",
      "\n",
      "Author: Ron Provost\n",
      "Rating: 1\n",
      "Review Text: Called today - Their name and number all over furnace from when they installed. Furnace down - No heat. Left message - 53 minutes later return call - First thing!!!!!! out of persons mouth is - They are far away and not a warranty item - Which I already checked - Its a covered item - Its 9 yrs old - the items is covered for 20 years - Said they wouldn't come here for repair  (even though they installed it) - Absolutely terrible way to do business! - My next call is to the builder to not use these people. - Then Lennox -\n",
      "\n",
      "Author: Lisa Waldinsperger\n",
      "Rating: 5\n",
      "Review Text: Alma did an amazing job installing my new furnace! My old furnace was shut down suddenly and we were experiencing an \"extreme cold weather\" alert in our area.  Alma was at my house and had the furnace installed within hours on the same day! The installers were professional and positive, respectful of my home and helpful with information and letting me know what was happening.  The office staff were equally wonderful to work with and of course, I love my new Lennox furnace...it's so quiet and runs like a charm! Thank you, Alma, for doing a great job and caring about your customer! I highly recommend Alma to everyone!\n",
      "\n",
      "Author: Nick Lawson\n",
      "Rating: 1\n",
      "Review Text: Customer for 10 years  have had service in the past.  Recently called for info on a warning light on the furnace and they said they couldn't help me and directed me elsewhere.  Tried to return a brand new furnace filter over $40 value, again after buying them twice yearly for 10 years  and Shane tells me they don't have a return policy.  So $800 worth of filters I buy, but when I need to return one extra I purchased they won't return it.  Poor business etiquette, definitely would not recommend them.  Customer service goes a long way, and here there is zero so why give them business.\n",
      "\n"
     ]
    }
   ],
   "source": [
    "getreview('ChIJJ5_TX-IA1YkR6nZEdM6l0Sc')"
   ]
  },
  {
   "cell_type": "code",
   "execution_count": null,
   "id": "81429dcf",
   "metadata": {},
   "outputs": [],
   "source": []
  },
  {
   "cell_type": "markdown",
   "id": "748e87e8",
   "metadata": {},
   "source": [
    "Collecting reviews using a list from CSV"
   ]
  },
  {
   "cell_type": "code",
   "execution_count": null,
   "id": "a4b9004b",
   "metadata": {},
   "outputs": [],
   "source": [
    "import csv\n",
    "from outscraper import ApiClient\n",
    "\n",
    "def getreview(api_key, place_id, reviews_limit=3):\n",
    "    api_client = ApiClient(api_key=api_key)\n",
    "    results = api_client.google_maps_reviews(place_id, reviews_limit=reviews_limit)\n",
    "\n",
    "    for result in results:\n",
    "        place_id = result['place_id']\n",
    "        name = result['name']\n",
    "    \n",
    "        print(f\"\\nReviews for {name} (Place ID: {place_id}):\\n\")\n",
    "    \n",
    "        for review_data in result.get('reviews_data', []):\n",
    "            review_text = review_data.get('review_text', '')\n",
    "            author_name = review_data.get('author_title', '')\n",
    "            review_rating = review_data.get('review_rating', 0)\n",
    "        \n",
    "            print(f\"Author: {author_name}\")\n",
    "            print(f\"Rating: {review_rating}\")\n",
    "            print(f\"Review Text: {review_text}\\n\")\n",
    "\n",
    "def collect_reviews_from_csv(api_key, csv_file_path, reviews_limit=3):\n",
    "    with open(csv_file_path, 'r', encoding='utf-8') as csvfile:\n",
    "        csv_reader = csv.reader(csvfile)\n",
    "        next(csv_reader)  # Skip header if it exists\n",
    "\n",
    "        for row in csv_reader:\n",
    "            company_name, place_id = row[0], row[1]\n",
    "            print(f\"\\nCollecting reviews for {company_name} (Place ID: {place_id})\")\n",
    "            getreview(api_key, place_id, reviews_limit)\n",
    "\n",
    "# 使用例\n",
    "api_key = 'YTVkNzRhOWRhMmFlNDFkYzkwOWFhZWY2ZTYxNzQ1NTJ8OGNhYjBjZWNmNw'\n",
    "csv_file_path = 'your_csv_file.csv'  # あなたのCSVファイルのパスに置き換えてください\n",
    "collect_reviews_from_csv(api_key, csv_file_path, reviews_limit=3)\n"
   ]
  },
  {
   "cell_type": "code",
   "execution_count": null,
   "id": "bc4a432a",
   "metadata": {},
   "outputs": [],
   "source": []
  },
  {
   "cell_type": "code",
   "execution_count": null,
   "id": "99638c76",
   "metadata": {},
   "outputs": [],
   "source": []
  },
  {
   "cell_type": "code",
   "execution_count": null,
   "id": "72037fed",
   "metadata": {},
   "outputs": [],
   "source": [
    "place_name = 'Ecocor Construction Ltd.' place_details = gmaps.places(place_name) place_details\n",
    "\n",
    "place_details['results'][0]['place_id']\n",
    "place = gmaps.place('ChIJLeO7za44K4gRDb2YOuTLIO0') place['result']['reviews']\n",
    "\n"
   ]
  },
  {
   "cell_type": "code",
   "execution_count": null,
   "id": "a930785c",
   "metadata": {},
   "outputs": [],
   "source": [
    "import requests\n",
    "\n",
    "key = 'YTVkNzRhOWRhMmFlNDFkYzkwOWFhZWY2ZTYxNzQ1NTJ8OGNhYjBjZWNmNw'  # 上記で作成したAPIキーを入れる\n",
    "placeId = 'ChIJLeO7za44K4gRDb2YOuTLIO0'\n",
    "\n",
    "url = f\"https://maps.googleapis.com/maps/api/place/details/json?placeid={placeId}&key={key}\"\n",
    "response = requests.get(url)\n",
    "\n",
    "if response.status_code == 200:\n",
    "    data = response.json()\n",
    "    \n",
    "    # レビュー情報が含まれているか確認\n",
    "    if 'result' in data and 'reviews' in data['result']:\n",
    "        reviews = data['result']['reviews']\n",
    "        for review in reviews:\n",
    "            print(f\"Author: {review['author_name']}, Rating: {review['rating']}, Text: {review['text']}\")\n",
    "    else:\n",
    "        print(\"No reviews found.\")\n",
    "else:\n",
    "    print(f\"Error: {response.status_code}\")\n"
   ]
  },
  {
   "cell_type": "code",
   "execution_count": null,
   "id": "54cea6fe",
   "metadata": {},
   "outputs": [],
   "source": []
  },
  {
   "cell_type": "code",
   "execution_count": null,
   "id": "fbc0abcc",
   "metadata": {},
   "outputs": [],
   "source": [
    "import csv\n",
    "import json\n",
    "from outscraper import ApiClient\n",
    "\n",
    "api_client = ApiClient(api_key='YTVkNzRhOWRhMmFlNDFkYzkwOWFhZWY2ZTYxNzQ1NTJ8OGNhYjBjZWNmNw')\n",
    "\n",
    "with open('builder_info_2_20selected.csv', 'r', encoding='utf-8') as csv_file:\n",
    "    reader = csv.DictReader(csv_file)\n",
    "    company_list = [row['company_name'] for row in reader]\n",
    "\n",
    "all_results = {}\n",
    "\n",
    "for company_name in company_list:\n",
    "    try:\n",
    "        result = api_client.google_maps_search(f'{company_name}, Ontario, Canada', limit=1)\n",
    "        \n",
    "        all_results[company_name] = result\n",
    "    except Exception as e:\n",
    "        print(f\"Error for {company_name}: {str(e)}\")\n",
    "\n",
    "with open('google_maps_results_by_company.json', 'w', encoding='utf-8') as json_file:\n",
    "    json.dump(all_results, json_file, ensure_ascii=False, indent=2)\n",
    "\n",
    "print('The result was saved as json file.')"
   ]
  }
 ],
 "metadata": {
  "kernelspec": {
   "display_name": "Python 3 (ipykernel)",
   "language": "python",
   "name": "python3"
  },
  "language_info": {
   "codemirror_mode": {
    "name": "ipython",
    "version": 3
   },
   "file_extension": ".py",
   "mimetype": "text/x-python",
   "name": "python",
   "nbconvert_exporter": "python",
   "pygments_lexer": "ipython3",
   "version": "3.8.5"
  }
 },
 "nbformat": 4,
 "nbformat_minor": 5
}

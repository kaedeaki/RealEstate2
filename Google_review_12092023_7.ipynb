{
 "cells": [
  {
   "cell_type": "code",
   "execution_count": null,
   "id": "5cc4987d",
   "metadata": {},
   "outputs": [],
   "source": [
    "! pip install outscraper"
   ]
  },
  {
   "cell_type": "markdown",
   "id": "ef15117b",
   "metadata": {},
   "source": [
    "# Using \"place_id\", scrape text based reviews."
   ]
  },
  {
   "cell_type": "code",
   "execution_count": null,
   "id": "4078c07a",
   "metadata": {},
   "outputs": [],
   "source": [
    "import json\n",
    "from outscraper import ApiClient\n",
    "\n",
    "def scrape_reviews(api_key, json_filename, output_json_filename):\n",
    "    api_client = ApiClient(api_key=api_key)\n",
    "\n",
    "    try:\n",
    "        with open(json_filename, 'r', encoding='utf-8') as json_file:\n",
    "            data = json.load(json_file)\n",
    "\n",
    "        all_reviews = {}\n",
    "\n",
    "        for company_name, reviews_list in data.items():\n",
    "            for reviews in reviews_list:\n",
    "                for result in reviews:\n",
    "                    place_id = result.get('place_id', '')\n",
    "\n",
    "                    if place_id:\n",
    "                        try:\n",
    "                            reviews_data = api_client.google_maps_reviews(place_id, reviews_limit=3)\n",
    "                            all_reviews[company_name] = {'place_id': place_id, 'reviews': reviews_data}\n",
    "                        except Exception as e:\n",
    "                            print(f\"Error for {company_name}: {str(e)}\")\n",
    "\n",
    "        with open(output_json_filename, 'w', encoding='utf-8') as output_json_file:\n",
    "            json.dump(all_reviews, output_json_file, ensure_ascii=False, indent=2)\n",
    "\n",
    "        print(f\"Reviews scraped and saved to '{output_json_filename}' successfully.\")\n",
    "    except Exception as e:\n",
    "        print(f\"Error: {str(e)}\")\n",
    "\n",
    "api_key = 'YTVkNzRhOWRhMmFlNDFkYzkwOWFhZWY2ZTYxNzQ1NTJ8OGNhYjBjZWNmNw'\n",
    "json_filename = 'output_results.json'\n",
    "output_json_filename = 'reviews_output.json'\n",
    "\n",
    "scrape_reviews(api_key, json_filename, output_json_filename)\n"
   ]
  },
  {
   "cell_type": "markdown",
   "id": "dbd508a7",
   "metadata": {},
   "source": [
    "# Json file to Pandas Data Freme"
   ]
  },
  {
   "cell_type": "code",
   "execution_count": 1,
   "id": "3913f406",
   "metadata": {},
   "outputs": [],
   "source": [
    "import pandas as pd"
   ]
  },
  {
   "cell_type": "code",
   "execution_count": 2,
   "id": "59ef38ae",
   "metadata": {},
   "outputs": [],
   "source": [
    "#with transpose, create the dataframe with pandas.\n",
    "df = pd.read_json('reviews_output.json').transpose()"
   ]
  },
  {
   "cell_type": "code",
   "execution_count": 3,
   "id": "d5b9695a",
   "metadata": {},
   "outputs": [
    {
     "data": {
      "text/html": [
       "<div>\n",
       "<style scoped>\n",
       "    .dataframe tbody tr th:only-of-type {\n",
       "        vertical-align: middle;\n",
       "    }\n",
       "\n",
       "    .dataframe tbody tr th {\n",
       "        vertical-align: top;\n",
       "    }\n",
       "\n",
       "    .dataframe thead th {\n",
       "        text-align: right;\n",
       "    }\n",
       "</style>\n",
       "<table border=\"1\" class=\"dataframe\">\n",
       "  <thead>\n",
       "    <tr style=\"text-align: right;\">\n",
       "      <th></th>\n",
       "      <th>place_id</th>\n",
       "      <th>reviews</th>\n",
       "    </tr>\n",
       "  </thead>\n",
       "  <tbody>\n",
       "    <tr>\n",
       "      <th>Activa</th>\n",
       "      <td>ChIJxbIbrsrzK4gRyKBqOoYlX6k</td>\n",
       "      <td>[{'query': 'ChIJxbIbrsrzK4gRyKBqOoYlX6k', 'nam...</td>\n",
       "    </tr>\n",
       "    <tr>\n",
       "      <th>Alma Mechanical</th>\n",
       "      <td>ChIJJ5_TX-IA1YkR6nZEdM6l0Sc</td>\n",
       "      <td>[{'query': 'ChIJJ5_TX-IA1YkR6nZEdM6l0Sc', 'nam...</td>\n",
       "    </tr>\n",
       "    <tr>\n",
       "      <th>CCR Build + Remodel Inc.</th>\n",
       "      <td>ChIJ-0bany_lLogRUBnpws5gzI4</td>\n",
       "      <td>[{'query': 'ChIJ-0bany_lLogRUBnpws5gzI4', 'nam...</td>\n",
       "    </tr>\n",
       "    <tr>\n",
       "      <th>Digreen Homes Inc.</th>\n",
       "      <td>ChIJ2yfX4tjU1IkRbct8G2DI2nA</td>\n",
       "      <td>[{'query': 'ChIJ2yfX4tjU1IkRbct8G2DI2nA', 'nam...</td>\n",
       "    </tr>\n",
       "    <tr>\n",
       "      <th>Ecocor Construction Ltd.</th>\n",
       "      <td>ChIJLeO7za44K4gRDb2YOuTLIO0</td>\n",
       "      <td>[{'query': 'ChIJLeO7za44K4gRDb2YOuTLIO0', 'nam...</td>\n",
       "    </tr>\n",
       "  </tbody>\n",
       "</table>\n",
       "</div>"
      ],
      "text/plain": [
       "                                             place_id  \\\n",
       "Activa                    ChIJxbIbrsrzK4gRyKBqOoYlX6k   \n",
       "Alma Mechanical           ChIJJ5_TX-IA1YkR6nZEdM6l0Sc   \n",
       "CCR Build + Remodel Inc.  ChIJ-0bany_lLogRUBnpws5gzI4   \n",
       "Digreen Homes Inc.        ChIJ2yfX4tjU1IkRbct8G2DI2nA   \n",
       "Ecocor Construction Ltd.  ChIJLeO7za44K4gRDb2YOuTLIO0   \n",
       "\n",
       "                                                                    reviews  \n",
       "Activa                    [{'query': 'ChIJxbIbrsrzK4gRyKBqOoYlX6k', 'nam...  \n",
       "Alma Mechanical           [{'query': 'ChIJJ5_TX-IA1YkR6nZEdM6l0Sc', 'nam...  \n",
       "CCR Build + Remodel Inc.  [{'query': 'ChIJ-0bany_lLogRUBnpws5gzI4', 'nam...  \n",
       "Digreen Homes Inc.        [{'query': 'ChIJ2yfX4tjU1IkRbct8G2DI2nA', 'nam...  \n",
       "Ecocor Construction Ltd.  [{'query': 'ChIJLeO7za44K4gRDb2YOuTLIO0', 'nam...  "
      ]
     },
     "execution_count": 3,
     "metadata": {},
     "output_type": "execute_result"
    }
   ],
   "source": [
    "df.head()"
   ]
  },
  {
   "cell_type": "code",
   "execution_count": 4,
   "id": "8e7b47c1",
   "metadata": {},
   "outputs": [],
   "source": [
    "# Put name in index.\n",
    "df = df.rename_axis('name')"
   ]
  },
  {
   "cell_type": "code",
   "execution_count": 5,
   "id": "c3ba6080",
   "metadata": {},
   "outputs": [],
   "source": [
    "#df.columns.values[0] = 'name'"
   ]
  },
  {
   "cell_type": "code",
   "execution_count": 5,
   "id": "ff7beba0",
   "metadata": {},
   "outputs": [
    {
     "data": {
      "text/html": [
       "<div>\n",
       "<style scoped>\n",
       "    .dataframe tbody tr th:only-of-type {\n",
       "        vertical-align: middle;\n",
       "    }\n",
       "\n",
       "    .dataframe tbody tr th {\n",
       "        vertical-align: top;\n",
       "    }\n",
       "\n",
       "    .dataframe thead th {\n",
       "        text-align: right;\n",
       "    }\n",
       "</style>\n",
       "<table border=\"1\" class=\"dataframe\">\n",
       "  <thead>\n",
       "    <tr style=\"text-align: right;\">\n",
       "      <th></th>\n",
       "      <th>place_id</th>\n",
       "      <th>reviews</th>\n",
       "    </tr>\n",
       "    <tr>\n",
       "      <th>name</th>\n",
       "      <th></th>\n",
       "      <th></th>\n",
       "    </tr>\n",
       "  </thead>\n",
       "  <tbody>\n",
       "    <tr>\n",
       "      <th>Activa</th>\n",
       "      <td>ChIJxbIbrsrzK4gRyKBqOoYlX6k</td>\n",
       "      <td>[{'query': 'ChIJxbIbrsrzK4gRyKBqOoYlX6k', 'nam...</td>\n",
       "    </tr>\n",
       "    <tr>\n",
       "      <th>Alma Mechanical</th>\n",
       "      <td>ChIJJ5_TX-IA1YkR6nZEdM6l0Sc</td>\n",
       "      <td>[{'query': 'ChIJJ5_TX-IA1YkR6nZEdM6l0Sc', 'nam...</td>\n",
       "    </tr>\n",
       "    <tr>\n",
       "      <th>CCR Build + Remodel Inc.</th>\n",
       "      <td>ChIJ-0bany_lLogRUBnpws5gzI4</td>\n",
       "      <td>[{'query': 'ChIJ-0bany_lLogRUBnpws5gzI4', 'nam...</td>\n",
       "    </tr>\n",
       "    <tr>\n",
       "      <th>Digreen Homes Inc.</th>\n",
       "      <td>ChIJ2yfX4tjU1IkRbct8G2DI2nA</td>\n",
       "      <td>[{'query': 'ChIJ2yfX4tjU1IkRbct8G2DI2nA', 'nam...</td>\n",
       "    </tr>\n",
       "    <tr>\n",
       "      <th>Ecocor Construction Ltd.</th>\n",
       "      <td>ChIJLeO7za44K4gRDb2YOuTLIO0</td>\n",
       "      <td>[{'query': 'ChIJLeO7za44K4gRDb2YOuTLIO0', 'nam...</td>\n",
       "    </tr>\n",
       "  </tbody>\n",
       "</table>\n",
       "</div>"
      ],
      "text/plain": [
       "                                             place_id  \\\n",
       "name                                                    \n",
       "Activa                    ChIJxbIbrsrzK4gRyKBqOoYlX6k   \n",
       "Alma Mechanical           ChIJJ5_TX-IA1YkR6nZEdM6l0Sc   \n",
       "CCR Build + Remodel Inc.  ChIJ-0bany_lLogRUBnpws5gzI4   \n",
       "Digreen Homes Inc.        ChIJ2yfX4tjU1IkRbct8G2DI2nA   \n",
       "Ecocor Construction Ltd.  ChIJLeO7za44K4gRDb2YOuTLIO0   \n",
       "\n",
       "                                                                    reviews  \n",
       "name                                                                         \n",
       "Activa                    [{'query': 'ChIJxbIbrsrzK4gRyKBqOoYlX6k', 'nam...  \n",
       "Alma Mechanical           [{'query': 'ChIJJ5_TX-IA1YkR6nZEdM6l0Sc', 'nam...  \n",
       "CCR Build + Remodel Inc.  [{'query': 'ChIJ-0bany_lLogRUBnpws5gzI4', 'nam...  \n",
       "Digreen Homes Inc.        [{'query': 'ChIJ2yfX4tjU1IkRbct8G2DI2nA', 'nam...  \n",
       "Ecocor Construction Ltd.  [{'query': 'ChIJLeO7za44K4gRDb2YOuTLIO0', 'nam...  "
      ]
     },
     "execution_count": 5,
     "metadata": {},
     "output_type": "execute_result"
    }
   ],
   "source": [
    "df.head()"
   ]
  },
  {
   "cell_type": "code",
   "execution_count": 6,
   "id": "504ea08c",
   "metadata": {},
   "outputs": [
    {
     "name": "stdout",
     "output_type": "stream",
     "text": [
      "                                   name                     place_id  \\\n",
      "0                                Activa  ChIJxbIbrsrzK4gRyKBqOoYlX6k   \n",
      "1                       Alma Mechanical  ChIJJ5_TX-IA1YkR6nZEdM6l0Sc   \n",
      "2              CCR Build + Remodel Inc.  ChIJ-0bany_lLogRUBnpws5gzI4   \n",
      "3                    Digreen Homes Inc.  ChIJ2yfX4tjU1IkRbct8G2DI2nA   \n",
      "4              Ecocor Construction Ltd.  ChIJLeO7za44K4gRDb2YOuTLIO0   \n",
      "5                          Fusion Homes  ChIJE1rXfZiEK4gReqaygRXkfKU   \n",
      "6                  Gemini Homebuilders   ChIJoQanqtiPK4gRlLrGQlyonZI   \n",
      "7                            Great Gulf  ChIJk-aAJHXT1IkR162Fn2PZ_Xo   \n",
      "8                       Greenpark Homes  ChIJ383bv6coK4gRR9vQBgnznpw   \n",
      "9              Holman Construction Inc.  ChIJ00ISyOv7LogRxoLavOAzO9I   \n",
      "10        Longwood Building Corporation  ChIJc3hN1S8QzkwR6Cw2aVsN90o   \n",
      "11                  Menkes Developments  ChIJnxQrv2MtK4gRNJ398yKdSIQ   \n",
      "12                Northbear Contracting  ChIJAQCEFZYv1okRZAqIqv96Ugc   \n",
      "13  Oke Woodsmith Building Systems Inc.  ChIJQT_HCGU6L4gRRTp_-Zzcm9Q   \n",
      "14               Pol Quality Homes Inc.  ChIJRTtMX_atLogRV5weuFY5RdI   \n",
      "15                Shean Architects Inc.  ChIJEZgcWj8EzkwRoPCkpJ-6XN4   \n",
      "16              Three Hills Engineering  ChIJE02goLU61okRfIpzcyBYTaM   \n",
      "17                Toronto Deck and Rail  ChIJYVKqHjVDK4gROjcc35elmrw   \n",
      "18                               Tridel  ChIJvR6GO-AtK4gR3yxdWCwSoKM   \n",
      "19             Upper Canada Consultants  ChIJ7SRXQnZR04kRgjDSNxbEceE   \n",
      "\n",
      "                                              reviews  \n",
      "0   [{'query': 'ChIJxbIbrsrzK4gRyKBqOoYlX6k', 'nam...  \n",
      "1   [{'query': 'ChIJJ5_TX-IA1YkR6nZEdM6l0Sc', 'nam...  \n",
      "2   [{'query': 'ChIJ-0bany_lLogRUBnpws5gzI4', 'nam...  \n",
      "3   [{'query': 'ChIJ2yfX4tjU1IkRbct8G2DI2nA', 'nam...  \n",
      "4   [{'query': 'ChIJLeO7za44K4gRDb2YOuTLIO0', 'nam...  \n",
      "5   [{'query': 'ChIJE1rXfZiEK4gReqaygRXkfKU', 'nam...  \n",
      "6   [{'query': 'ChIJoQanqtiPK4gRlLrGQlyonZI', 'nam...  \n",
      "7   [{'query': 'ChIJk-aAJHXT1IkR162Fn2PZ_Xo', 'nam...  \n",
      "8   [{'query': 'ChIJ383bv6coK4gRR9vQBgnznpw', 'nam...  \n",
      "9   [{'query': 'ChIJ00ISyOv7LogRxoLavOAzO9I', 'nam...  \n",
      "10  [{'query': 'ChIJc3hN1S8QzkwR6Cw2aVsN90o', 'nam...  \n",
      "11  [{'query': 'ChIJnxQrv2MtK4gRNJ398yKdSIQ', 'nam...  \n",
      "12  [{'query': 'ChIJAQCEFZYv1okRZAqIqv96Ugc', 'nam...  \n",
      "13  [{'query': 'ChIJQT_HCGU6L4gRRTp_-Zzcm9Q', 'nam...  \n",
      "14  [{'query': 'ChIJRTtMX_atLogRV5weuFY5RdI', 'nam...  \n",
      "15  [{'query': 'ChIJEZgcWj8EzkwRoPCkpJ-6XN4', 'nam...  \n",
      "16  [{'query': 'ChIJE02goLU61okRfIpzcyBYTaM', 'nam...  \n",
      "17  [{'query': 'ChIJYVKqHjVDK4gROjcc35elmrw', 'nam...  \n",
      "18  [{'query': 'ChIJvR6GO-AtK4gR3yxdWCwSoKM', 'nam...  \n",
      "19  [{'query': 'ChIJ7SRXQnZR04kRgjDSNxbEceE', 'nam...  \n"
     ]
    }
   ],
   "source": [
    "#make no index.\n",
    "df.reset_index(inplace=True)\n",
    "\n",
    "# Put name in the 1st column as 'name'.\n",
    "df = df.rename(columns={'index': 'name'})\n",
    "print(df)"
   ]
  },
  {
   "cell_type": "code",
   "execution_count": 7,
   "id": "63a4313a",
   "metadata": {},
   "outputs": [
    {
     "name": "stdout",
     "output_type": "stream",
     "text": [
      "                                   name                     place_id\n",
      "0                                Activa  ChIJxbIbrsrzK4gRyKBqOoYlX6k\n",
      "1                       Alma Mechanical  ChIJJ5_TX-IA1YkR6nZEdM6l0Sc\n",
      "2              CCR Build + Remodel Inc.  ChIJ-0bany_lLogRUBnpws5gzI4\n",
      "3                    Digreen Homes Inc.  ChIJ2yfX4tjU1IkRbct8G2DI2nA\n",
      "4              Ecocor Construction Ltd.  ChIJLeO7za44K4gRDb2YOuTLIO0\n",
      "5                          Fusion Homes  ChIJE1rXfZiEK4gReqaygRXkfKU\n",
      "6                  Gemini Homebuilders   ChIJoQanqtiPK4gRlLrGQlyonZI\n",
      "7                            Great Gulf  ChIJk-aAJHXT1IkR162Fn2PZ_Xo\n",
      "8                       Greenpark Homes  ChIJ383bv6coK4gRR9vQBgnznpw\n",
      "9              Holman Construction Inc.  ChIJ00ISyOv7LogRxoLavOAzO9I\n",
      "10        Longwood Building Corporation  ChIJc3hN1S8QzkwR6Cw2aVsN90o\n",
      "11                  Menkes Developments  ChIJnxQrv2MtK4gRNJ398yKdSIQ\n",
      "12                Northbear Contracting  ChIJAQCEFZYv1okRZAqIqv96Ugc\n",
      "13  Oke Woodsmith Building Systems Inc.  ChIJQT_HCGU6L4gRRTp_-Zzcm9Q\n",
      "14               Pol Quality Homes Inc.  ChIJRTtMX_atLogRV5weuFY5RdI\n",
      "15                Shean Architects Inc.  ChIJEZgcWj8EzkwRoPCkpJ-6XN4\n",
      "16              Three Hills Engineering  ChIJE02goLU61okRfIpzcyBYTaM\n",
      "17                Toronto Deck and Rail  ChIJYVKqHjVDK4gROjcc35elmrw\n",
      "18                               Tridel  ChIJvR6GO-AtK4gR3yxdWCwSoKM\n",
      "19             Upper Canada Consultants  ChIJ7SRXQnZR04kRgjDSNxbEceE\n"
     ]
    }
   ],
   "source": [
    "#make a new data frame without index and only 2 columns with 'name' and 'place_id'.\n",
    "new_df = df[['name', 'place_id']]\n",
    "print(new_df)"
   ]
  },
  {
   "cell_type": "code",
   "execution_count": 10,
   "id": "ff5acd9f",
   "metadata": {},
   "outputs": [],
   "source": [
    "new_df.to_csv('extract_out.csv', index=False)"
   ]
  },
  {
   "cell_type": "markdown",
   "id": "4172f9f5",
   "metadata": {},
   "source": [
    "# Collecting reviews using a list from CSV"
   ]
  },
  {
   "cell_type": "code",
   "execution_count": 15,
   "id": "7de6ecf2",
   "metadata": {},
   "outputs": [
    {
     "name": "stdout",
     "output_type": "stream",
     "text": [
      "\n",
      "Collecting reviews for Activa (Place ID: ChIJxbIbrsrzK4gRyKBqOoYlX6k)\n",
      "\n",
      "Collecting reviews for Alma Mechanical (Place ID: ChIJJ5_TX-IA1YkR6nZEdM6l0Sc)\n",
      "\n",
      "Collecting reviews for CCR Build + Remodel Inc. (Place ID: ChIJ-0bany_lLogRUBnpws5gzI4)\n",
      "\n",
      "Collecting reviews for Digreen Homes Inc. (Place ID: ChIJ2yfX4tjU1IkRbct8G2DI2nA)\n",
      "\n",
      "Collecting reviews for Ecocor Construction Ltd. (Place ID: ChIJLeO7za44K4gRDb2YOuTLIO0)\n",
      "\n",
      "Collecting reviews for Fusion Homes (Place ID: ChIJE1rXfZiEK4gReqaygRXkfKU)\n",
      "\n",
      "Collecting reviews for Gemini Homebuilders  (Place ID: ChIJoQanqtiPK4gRlLrGQlyonZI)\n",
      "\n",
      "Collecting reviews for Great Gulf (Place ID: ChIJk-aAJHXT1IkR162Fn2PZ_Xo)\n",
      "\n",
      "Collecting reviews for Greenpark Homes (Place ID: ChIJ383bv6coK4gRR9vQBgnznpw)\n",
      "\n",
      "Collecting reviews for Holman Construction Inc. (Place ID: ChIJ00ISyOv7LogRxoLavOAzO9I)\n",
      "\n",
      "Collecting reviews for Longwood Building Corporation (Place ID: ChIJc3hN1S8QzkwR6Cw2aVsN90o)\n",
      "\n",
      "Collecting reviews for Menkes Developments (Place ID: ChIJnxQrv2MtK4gRNJ398yKdSIQ)\n",
      "\n",
      "Collecting reviews for Northbear Contracting (Place ID: ChIJAQCEFZYv1okRZAqIqv96Ugc)\n",
      "\n",
      "Collecting reviews for Oke Woodsmith Building Systems Inc. (Place ID: ChIJQT_HCGU6L4gRRTp_-Zzcm9Q)\n",
      "\n",
      "Collecting reviews for Pol Quality Homes Inc. (Place ID: ChIJRTtMX_atLogRV5weuFY5RdI)\n",
      "\n",
      "Collecting reviews for Shean Architects Inc. (Place ID: ChIJEZgcWj8EzkwRoPCkpJ-6XN4)\n",
      "\n",
      "Collecting reviews for Three Hills Engineering (Place ID: ChIJE02goLU61okRfIpzcyBYTaM)\n",
      "\n",
      "Collecting reviews for Toronto Deck and Rail (Place ID: ChIJYVKqHjVDK4gROjcc35elmrw)\n",
      "\n",
      "Collecting reviews for Tridel (Place ID: ChIJvR6GO-AtK4gR3yxdWCwSoKM)\n",
      "\n",
      "Collecting reviews for Upper Canada Consultants (Place ID: ChIJ7SRXQnZR04kRgjDSNxbEceE)\n"
     ]
    }
   ],
   "source": [
    "import csv\n",
    "from outscraper import ApiClient\n",
    "\n",
    "def getreview(api_key, place_id, reviews_limit=3):\n",
    "    api_client = ApiClient(api_key=api_key)\n",
    "    results = api_client.google_maps_reviews(place_id, reviews_limit=reviews_limit)\n",
    "\n",
    "    reviews_list = []\n",
    "    for result in results:\n",
    "        place_id = result['place_id']\n",
    "        name = result['name']\n",
    "\n",
    "        for review_data in result.get('reviews_data', []):\n",
    "            review_text = review_data.get('review_text', '')\n",
    "            author_name = review_data.get('author_title', '')\n",
    "            review_rating = review_data.get('review_rating', 0)\n",
    "\n",
    "            review_info = {\n",
    "                'Company Name': name,\n",
    "                'Place ID': place_id,\n",
    "                'Author': author_name,\n",
    "                'Rating': review_rating,\n",
    "                'Review Text': review_text\n",
    "            }\n",
    "\n",
    "            reviews_list.append(review_info)\n",
    "\n",
    "    return reviews_list\n",
    "\n",
    "def collect_reviews_from_csv(api_key, csv_file_path, reviews_limit=3):\n",
    "    with open(csv_file_path, 'r', encoding='utf-8') as csvfile:\n",
    "        csv_reader = csv.reader(csvfile)\n",
    "        next(csv_reader)  \n",
    "\n",
    "        all_reviews = []\n",
    "        for row in csv_reader:\n",
    "            company_name, place_id = row[0], row[1]\n",
    "            print(f\"\\nCollecting reviews for {company_name} (Place ID: {place_id})\")\n",
    "            reviews = getreview(api_key, place_id, reviews_limit)\n",
    "            all_reviews.extend(reviews)\n",
    "\n",
    "    #save to CSV\n",
    "    csv_output_file_path = 'text_based_reviews.csv'\n",
    "    with open(csv_output_file_path, 'w', newline='', encoding='utf-8') as csvfile:\n",
    "        fieldnames = ['Company Name', 'Place ID', 'Author', 'Rating', 'Review Text']\n",
    "        csv_writer = csv.DictWriter(csvfile, fieldnames=fieldnames)\n",
    "        csv_writer.writeheader()\n",
    "        csv_writer.writerows(all_reviews)\n",
    "\n",
    "\n",
    "api_key = 'YTVkNzRhOWRhMmFlNDFkYzkwOWFhZWY2ZTYxNzQ1NTJ8OGNhYjBjZWNmNw'\n",
    "csv_file_path = 'extract_out.csv'\n",
    "collect_reviews_from_csv(api_key, csv_file_path, reviews_limit=3)\n"
   ]
  },
  {
   "cell_type": "code",
   "execution_count": null,
   "id": "d479884f",
   "metadata": {},
   "outputs": [],
   "source": []
  }
 ],
 "metadata": {
  "kernelspec": {
   "display_name": "Python 3 (ipykernel)",
   "language": "python",
   "name": "python3"
  },
  "language_info": {
   "codemirror_mode": {
    "name": "ipython",
    "version": 3
   },
   "file_extension": ".py",
   "mimetype": "text/x-python",
   "name": "python",
   "nbconvert_exporter": "python",
   "pygments_lexer": "ipython3",
   "version": "3.8.5"
  }
 },
 "nbformat": 4,
 "nbformat_minor": 5
}
